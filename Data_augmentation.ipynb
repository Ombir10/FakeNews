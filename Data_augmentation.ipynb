{
 "cells": [
  {
   "cell_type": "code",
   "execution_count": 1,
   "id": "86fc9847-ff29-46e1-95f9-625df2086934",
   "metadata": {},
   "outputs": [
    {
     "name": "stderr",
     "output_type": "stream",
     "text": [
      "[nltk_data] Downloading package wordnet to C:\\Users\\raiom.LAPTOP-\n",
      "[nltk_data]     59QT21KS\\AppData\\Roaming\\nltk_data...\n",
      "[nltk_data]   Package wordnet is already up-to-date!\n"
     ]
    },
    {
     "data": {
      "text/plain": [
       "True"
      ]
     },
     "execution_count": 1,
     "metadata": {},
     "output_type": "execute_result"
    }
   ],
   "source": [
    "import random\n",
    "from nltk.corpus import wordnet\n",
    "from nltk.tokenize import word_tokenize, sent_tokenize\n",
    "import nltk\n",
    "import pandas as pd\n",
    "nltk.download('wordnet')"
   ]
  },
  {
   "cell_type": "code",
   "execution_count": 2,
   "id": "ed578e45-68fc-4c88-a04a-2f14ad0324b8",
   "metadata": {},
   "outputs": [],
   "source": [
    "df = pd.read_csv(r'news_articles.csv')"
   ]
  },
  {
   "cell_type": "code",
   "execution_count": 3,
   "id": "e3244a7b-f527-4c3b-bf9c-d2cf1a88f251",
   "metadata": {},
   "outputs": [
    {
     "name": "stdout",
     "output_type": "stream",
     "text": [
      "Augmented dataset saved as 'augmented_news_articles.csv' with 9,000 rows.\n"
     ]
    }
   ],
   "source": [
    "df = df[['text_without_stopwords', 'label']].dropna()\n",
    "\n",
    "def synonym_replacement(text, n=2):\n",
    "    words = text.split()\n",
    "    new_words = words.copy()\n",
    "    random_words = list(set(words))\n",
    "    random.shuffle(random_words)\n",
    "    num_replaced = 0\n",
    "    \n",
    "    for random_word in random_words:\n",
    "        synonyms = wordnet.synsets(random_word)\n",
    "        if synonyms:\n",
    "            synonym = synonyms[0].lemmas()[0].name()\n",
    "            if synonym != random_word:\n",
    "                new_words = [synonym if word == random_word else word for word in new_words]\n",
    "                num_replaced += 1\n",
    "            if num_replaced >= n:\n",
    "                break\n",
    "    return ' '.join(new_words)\n",
    "\n",
    "def word_shuffling(text):\n",
    "    words = text.split()\n",
    "    random.shuffle(words)\n",
    "    return ' '.join(words)\n",
    "\n",
    "def word_deletion(text, p=0.2):\n",
    "    words = text.split()\n",
    "    new_words = [word for word in words if random.random() > p]\n",
    "    return ' '.join(new_words) if new_words else text\n",
    "\n",
    "\n",
    "augmented_texts = []\n",
    "augmented_labels = []\n",
    "\n",
    "for text, label in zip(df['text_without_stopwords'], df['label']):\n",
    "    augmented_texts.append(synonym_replacement(text))\n",
    "    augmented_labels.append(label)\n",
    "\n",
    "    augmented_texts.append(word_shuffling(text))\n",
    "    augmented_labels.append(label)\n",
    "\n",
    "    augmented_texts.append(word_deletion(text))\n",
    "    augmented_labels.append(label)\n",
    "\n",
    "    if len(augmented_texts) >= 9000:\n",
    "        break\n",
    "\n",
    "augmented_df = pd.DataFrame({'text_without_stopwords': augmented_texts[:9000], 'label': augmented_labels[:9000]})\n",
    "\n",
    "augmented_df.to_csv(\"augmented_news_articles.csv\", index=False)\n",
    "\n",
    "print(\"Augmented dataset saved as 'augmented_news_articles.csv' with 9,000 rows.\")"
   ]
  },
  {
   "cell_type": "code",
   "execution_count": null,
   "id": "c87ed6e6-51ea-484e-b477-37784ab13b0c",
   "metadata": {},
   "outputs": [],
   "source": []
  },
  {
   "cell_type": "code",
   "execution_count": null,
   "id": "582381b0-c445-4ddd-95ed-e63a336c47ce",
   "metadata": {},
   "outputs": [],
   "source": []
  },
  {
   "cell_type": "code",
   "execution_count": null,
   "id": "82fd3160-c2e6-4158-a1f0-330285cdfd1c",
   "metadata": {},
   "outputs": [],
   "source": []
  }
 ],
 "metadata": {
  "kernelspec": {
   "display_name": "Python (fyp)",
   "language": "python",
   "name": "fyp"
  },
  "language_info": {
   "codemirror_mode": {
    "name": "ipython",
    "version": 3
   },
   "file_extension": ".py",
   "mimetype": "text/x-python",
   "name": "python",
   "nbconvert_exporter": "python",
   "pygments_lexer": "ipython3",
   "version": "3.12.3"
  }
 },
 "nbformat": 4,
 "nbformat_minor": 5
}
