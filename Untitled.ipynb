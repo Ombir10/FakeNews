{
 "cells": [
  {
   "cell_type": "code",
   "execution_count": 5,
   "id": "82b78967-801c-48fb-817b-f1430bdf5492",
   "metadata": {},
   "outputs": [
    {
     "name": "stdout",
     "output_type": "stream",
     "text": [
      "Article's Title:\n",
      "NRNA rift deepens as PM and FM pick sides\n",
      "\n",
      "\n"
     ]
    }
   ],
   "source": [
    "from newspaper import Article\n",
    "\n",
    "# URL of the article you want to scrape\n",
    "url = \"https://kathmandupost.com/nepali-diaspora/2025/05/15/nrna-rift-deepens-as-pm-and-fm-pick-sides\"\n",
    "\n",
    "# Create an Article object with the given URL and language (e.g., 'en' for English)\n",
    "toi_article = Article(url)\n",
    "\n",
    "# To download the article\n",
    "toi_article.download()\n",
    "\n",
    "# To parse the article (i.e., extract the content)\n",
    "toi_article.parse()\n",
    "\n",
    "print(\"Article's Title:\")\n",
    "print(toi_article.title)\n",
    "print(\"\\n\")\n"
   ]
  },
  {
   "cell_type": "code",
   "execution_count": null,
   "id": "166de2c6-b533-409c-9831-7ffff7603da5",
   "metadata": {},
   "outputs": [],
   "source": []
  }
 ],
 "metadata": {
  "kernelspec": {
   "display_name": "Python (fyp)",
   "language": "python",
   "name": "fyp"
  },
  "language_info": {
   "codemirror_mode": {
    "name": "ipython",
    "version": 3
   },
   "file_extension": ".py",
   "mimetype": "text/x-python",
   "name": "python",
   "nbconvert_exporter": "python",
   "pygments_lexer": "ipython3",
   "version": "3.12.3"
  }
 },
 "nbformat": 4,
 "nbformat_minor": 5
}
