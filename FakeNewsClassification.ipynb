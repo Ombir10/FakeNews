{
 "cells": [
  {
   "cell_type": "code",
   "execution_count": 1,
   "id": "4729af69-4533-4628-9698-fb4ed0114bdc",
   "metadata": {},
   "outputs": [],
   "source": [
    "import pandas as pd\n",
    "import random\n",
    "import numpy as np\n",
    "import time\n",
    "import datetime\n",
    "import matplotlib.pyplot as plt\n",
    "%matplotlib inline\n",
    "from sklearn.model_selection import train_test_split\n",
    "from sklearn.metrics import confusion_matrix, classification_report, precision_recall_curve, average_precision_score\n",
    "import seaborn as sns\n",
    "import matplotlib.pyplot as plt\n",
    "import re\n",
    "import pickle\n",
    "import zipfile\n",
    "import os"
   ]
  },
  {
   "cell_type": "code",
   "execution_count": 2,
   "id": "190f8d36-2785-4848-9d10-a7036f279c0e",
   "metadata": {},
   "outputs": [
    {
     "name": "stderr",
     "output_type": "stream",
     "text": [
      "[nltk_data] Downloading package stopwords to C:\\Users\\raiom.LAPTOP-\n",
      "[nltk_data]     59QT21KS\\AppData\\Roaming\\nltk_data...\n",
      "[nltk_data]   Package stopwords is already up-to-date!\n",
      "[nltk_data] Downloading package punkt to C:\\Users\\raiom.LAPTOP-\n",
      "[nltk_data]     59QT21KS\\AppData\\Roaming\\nltk_data...\n",
      "[nltk_data]   Package punkt is already up-to-date!\n"
     ]
    }
   ],
   "source": [
    "from nltk.corpus import stopwords\n",
    "import nltk\n",
    "nltk.download('stopwords')\n",
    "nltk.download('punkt')\n",
    "\n",
    "stop_words = set(stopwords.words('english'))"
   ]
  },
  {
   "cell_type": "code",
   "execution_count": 3,
   "id": "a56ddc69-8c1c-4163-88e9-de3009ac4787",
   "metadata": {},
   "outputs": [],
   "source": [
    "import torch\n",
    "import torch.nn as nn\n",
    "from torch.utils.data import TensorDataset, random_split\n",
    "from torch.utils.data import DataLoader, RandomSampler, SequentialSampler\n",
    "if torch.cuda.is_available():       \n",
    "    device = torch.device(\"cuda\")\n",
    "else:\n",
    "    device = torch.device(\"cpu\")"
   ]
  },
  {
   "cell_type": "code",
   "execution_count": 4,
   "id": "aea45248-7107-4ce9-8a33-808eaceb98e8",
   "metadata": {},
   "outputs": [],
   "source": [
    "import transformers\n",
    "from transformers import DistilBertTokenizer\n",
    "from transformers import DistilBertForSequenceClassification, AdamW, BertConfig\n",
    "from transformers.optimization import get_linear_schedule_with_warmup"
   ]
  },
  {
   "cell_type": "code",
   "execution_count": 5,
   "id": "c49bf1d1-3425-4a10-b34e-fcea0a4fd789",
   "metadata": {},
   "outputs": [],
   "source": [
    "true_zip = r\"C:\\Users\\raiom.LAPTOP-59QT21KS\\Downloads\\True.csv.zip\"\n",
    "pth1 = r\"C:\\Users\\raiom.LAPTOP-59QT21KS\\FakeNews\\true\""
   ]
  },
  {
   "cell_type": "code",
   "execution_count": 6,
   "id": "bc12f4c7-832c-49ce-8b4f-ee9db9efee84",
   "metadata": {},
   "outputs": [],
   "source": [
    "fake_zip = r\"C:\\Users\\raiom.LAPTOP-59QT21KS\\Downloads\\Fake.csv.zip\"\n",
    "pth2 = r\"C:\\Users\\raiom.LAPTOP-59QT21KS\\FakeNews\\fake\""
   ]
  },
  {
   "cell_type": "code",
   "execution_count": 7,
   "id": "633051b0-f6c3-4c33-84b8-0f2d457f8bc3",
   "metadata": {},
   "outputs": [],
   "source": [
    "with zipfile.ZipFile(true_zip, 'r') as true:\n",
    "    true.extractall(pth1)"
   ]
  },
  {
   "cell_type": "code",
   "execution_count": 8,
   "id": "ce79a0f6-26ab-45ff-83f3-eff348ee9846",
   "metadata": {},
   "outputs": [],
   "source": [
    "with zipfile.ZipFile(fake_zip, 'r') as fake:\n",
    "    fake.extractall(pth2)"
   ]
  },
  {
   "cell_type": "code",
   "execution_count": 9,
   "id": "aa75752a-b983-4b06-b145-21f67a2155f9",
   "metadata": {},
   "outputs": [],
   "source": [
    "true_pth = os.path.join(pth1, \"True.csv\")\n",
    "true_data = pd.read_csv(true_pth)"
   ]
  },
  {
   "cell_type": "code",
   "execution_count": 10,
   "id": "9ccbbc5e-e510-492e-90b2-c9f77cddfc32",
   "metadata": {},
   "outputs": [],
   "source": [
    "true_data.drop(columns = [\"title\", \"subject\", \"date\"], inplace = True)"
   ]
  },
  {
   "cell_type": "code",
   "execution_count": 11,
   "id": "0571baf0-d680-4746-b8ea-12756228a459",
   "metadata": {},
   "outputs": [],
   "source": [
    "true_data['label'] = 0"
   ]
  },
  {
   "cell_type": "code",
   "execution_count": 12,
   "id": "4b3cb3a5-e406-4443-9617-ecf7161745a0",
   "metadata": {},
   "outputs": [
    {
     "data": {
      "text/html": [
       "<div>\n",
       "<style scoped>\n",
       "    .dataframe tbody tr th:only-of-type {\n",
       "        vertical-align: middle;\n",
       "    }\n",
       "\n",
       "    .dataframe tbody tr th {\n",
       "        vertical-align: top;\n",
       "    }\n",
       "\n",
       "    .dataframe thead th {\n",
       "        text-align: right;\n",
       "    }\n",
       "</style>\n",
       "<table border=\"1\" class=\"dataframe\">\n",
       "  <thead>\n",
       "    <tr style=\"text-align: right;\">\n",
       "      <th></th>\n",
       "      <th>text</th>\n",
       "      <th>label</th>\n",
       "    </tr>\n",
       "  </thead>\n",
       "  <tbody>\n",
       "    <tr>\n",
       "      <th>0</th>\n",
       "      <td>WASHINGTON (Reuters) - The head of a conservat...</td>\n",
       "      <td>0</td>\n",
       "    </tr>\n",
       "    <tr>\n",
       "      <th>1</th>\n",
       "      <td>WASHINGTON (Reuters) - Transgender people will...</td>\n",
       "      <td>0</td>\n",
       "    </tr>\n",
       "    <tr>\n",
       "      <th>2</th>\n",
       "      <td>WASHINGTON (Reuters) - The special counsel inv...</td>\n",
       "      <td>0</td>\n",
       "    </tr>\n",
       "    <tr>\n",
       "      <th>3</th>\n",
       "      <td>WASHINGTON (Reuters) - Trump campaign adviser ...</td>\n",
       "      <td>0</td>\n",
       "    </tr>\n",
       "    <tr>\n",
       "      <th>4</th>\n",
       "      <td>SEATTLE/WASHINGTON (Reuters) - President Donal...</td>\n",
       "      <td>0</td>\n",
       "    </tr>\n",
       "  </tbody>\n",
       "</table>\n",
       "</div>"
      ],
      "text/plain": [
       "                                                text  label\n",
       "0  WASHINGTON (Reuters) - The head of a conservat...      0\n",
       "1  WASHINGTON (Reuters) - Transgender people will...      0\n",
       "2  WASHINGTON (Reuters) - The special counsel inv...      0\n",
       "3  WASHINGTON (Reuters) - Trump campaign adviser ...      0\n",
       "4  SEATTLE/WASHINGTON (Reuters) - President Donal...      0"
      ]
     },
     "execution_count": 12,
     "metadata": {},
     "output_type": "execute_result"
    }
   ],
   "source": [
    "true_data.head()"
   ]
  },
  {
   "cell_type": "code",
   "execution_count": 13,
   "id": "6af0b637-e8b4-48bf-a759-fd486057aa39",
   "metadata": {
    "scrolled": true
   },
   "outputs": [
    {
     "name": "stdout",
     "output_type": "stream",
     "text": [
      "<class 'pandas.core.frame.DataFrame'>\n",
      "RangeIndex: 21417 entries, 0 to 21416\n",
      "Data columns (total 2 columns):\n",
      " #   Column  Non-Null Count  Dtype \n",
      "---  ------  --------------  ----- \n",
      " 0   text    21417 non-null  object\n",
      " 1   label   21417 non-null  int64 \n",
      "dtypes: int64(1), object(1)\n",
      "memory usage: 334.8+ KB\n"
     ]
    }
   ],
   "source": [
    "true_data.info()"
   ]
  },
  {
   "cell_type": "code",
   "execution_count": 14,
   "id": "3d3582af-df2e-4a3c-997d-fc7c104786d6",
   "metadata": {},
   "outputs": [],
   "source": [
    "fake_pth = os.path.join(pth2, \"Fake.csv\")\n",
    "fake_data = pd.read_csv(fake_pth)"
   ]
  },
  {
   "cell_type": "code",
   "execution_count": 15,
   "id": "8c492afd-e4e1-4c03-b895-b3ac6fefde03",
   "metadata": {},
   "outputs": [
    {
     "name": "stdout",
     "output_type": "stream",
     "text": [
      "<class 'pandas.core.frame.DataFrame'>\n",
      "RangeIndex: 23481 entries, 0 to 23480\n",
      "Data columns (total 4 columns):\n",
      " #   Column   Non-Null Count  Dtype \n",
      "---  ------   --------------  ----- \n",
      " 0   title    23481 non-null  object\n",
      " 1   text     23481 non-null  object\n",
      " 2   subject  23481 non-null  object\n",
      " 3   date     23481 non-null  object\n",
      "dtypes: object(4)\n",
      "memory usage: 733.9+ KB\n"
     ]
    }
   ],
   "source": [
    "fake_data.info()"
   ]
  },
  {
   "cell_type": "code",
   "execution_count": 16,
   "id": "ba477753-0c3c-42b3-8e99-8c00613d286b",
   "metadata": {},
   "outputs": [],
   "source": [
    "fake_data = fake_data.iloc[:21417]"
   ]
  },
  {
   "cell_type": "code",
   "execution_count": 17,
   "id": "84b97d92-bf74-4529-b8c5-02d5f3560c4a",
   "metadata": {},
   "outputs": [],
   "source": [
    "fake_data.drop(columns = [\"title\", \"subject\", \"date\"], inplace = True)"
   ]
  },
  {
   "cell_type": "code",
   "execution_count": 18,
   "id": "c6e458f8-3c71-4a18-a97a-7efcc22d8281",
   "metadata": {},
   "outputs": [],
   "source": [
    "fake_data[\"label\"] = True"
   ]
  },
  {
   "cell_type": "code",
   "execution_count": 19,
   "id": "44e90eef-8744-44a7-9266-4f590adbf1f6",
   "metadata": {},
   "outputs": [
    {
     "name": "stdout",
     "output_type": "stream",
     "text": [
      "<class 'pandas.core.frame.DataFrame'>\n",
      "RangeIndex: 21417 entries, 0 to 21416\n",
      "Data columns (total 2 columns):\n",
      " #   Column  Non-Null Count  Dtype \n",
      "---  ------  --------------  ----- \n",
      " 0   text    21417 non-null  object\n",
      " 1   label   21417 non-null  bool  \n",
      "dtypes: bool(1), object(1)\n",
      "memory usage: 188.4+ KB\n"
     ]
    }
   ],
   "source": [
    "fake_data.info()"
   ]
  },
  {
   "cell_type": "code",
   "execution_count": 20,
   "id": "fb36caea-6259-41b1-b1e3-de91e7148094",
   "metadata": {},
   "outputs": [
    {
     "data": {
      "text/html": [
       "<div>\n",
       "<style scoped>\n",
       "    .dataframe tbody tr th:only-of-type {\n",
       "        vertical-align: middle;\n",
       "    }\n",
       "\n",
       "    .dataframe tbody tr th {\n",
       "        vertical-align: top;\n",
       "    }\n",
       "\n",
       "    .dataframe thead th {\n",
       "        text-align: right;\n",
       "    }\n",
       "</style>\n",
       "<table border=\"1\" class=\"dataframe\">\n",
       "  <thead>\n",
       "    <tr style=\"text-align: right;\">\n",
       "      <th></th>\n",
       "      <th>text</th>\n",
       "      <th>label</th>\n",
       "    </tr>\n",
       "  </thead>\n",
       "  <tbody>\n",
       "    <tr>\n",
       "      <th>0</th>\n",
       "      <td>Donald Trump just couldn t wish all Americans ...</td>\n",
       "      <td>True</td>\n",
       "    </tr>\n",
       "    <tr>\n",
       "      <th>1</th>\n",
       "      <td>House Intelligence Committee Chairman Devin Nu...</td>\n",
       "      <td>True</td>\n",
       "    </tr>\n",
       "    <tr>\n",
       "      <th>2</th>\n",
       "      <td>On Friday, it was revealed that former Milwauk...</td>\n",
       "      <td>True</td>\n",
       "    </tr>\n",
       "    <tr>\n",
       "      <th>3</th>\n",
       "      <td>On Christmas day, Donald Trump announced that ...</td>\n",
       "      <td>True</td>\n",
       "    </tr>\n",
       "    <tr>\n",
       "      <th>4</th>\n",
       "      <td>Pope Francis used his annual Christmas Day mes...</td>\n",
       "      <td>True</td>\n",
       "    </tr>\n",
       "  </tbody>\n",
       "</table>\n",
       "</div>"
      ],
      "text/plain": [
       "                                                text  label\n",
       "0  Donald Trump just couldn t wish all Americans ...   True\n",
       "1  House Intelligence Committee Chairman Devin Nu...   True\n",
       "2  On Friday, it was revealed that former Milwauk...   True\n",
       "3  On Christmas day, Donald Trump announced that ...   True\n",
       "4  Pope Francis used his annual Christmas Day mes...   True"
      ]
     },
     "execution_count": 20,
     "metadata": {},
     "output_type": "execute_result"
    }
   ],
   "source": [
    "fake_data.head()"
   ]
  },
  {
   "cell_type": "code",
   "execution_count": 21,
   "id": "9eca3b2c-64a4-4771-a2d7-f6f853dbe483",
   "metadata": {},
   "outputs": [],
   "source": [
    "dataframe = pd.concat([true_data, fake_data], axis = 0)"
   ]
  },
  {
   "cell_type": "code",
   "execution_count": 22,
   "id": "dda12e4d-91bb-4bb2-a069-bccbbb532275",
   "metadata": {
    "scrolled": true
   },
   "outputs": [
    {
     "name": "stdout",
     "output_type": "stream",
     "text": [
      "<class 'pandas.core.frame.DataFrame'>\n",
      "Index: 42834 entries, 0 to 21416\n",
      "Data columns (total 2 columns):\n",
      " #   Column  Non-Null Count  Dtype \n",
      "---  ------  --------------  ----- \n",
      " 0   text    42834 non-null  object\n",
      " 1   label   42834 non-null  int64 \n",
      "dtypes: int64(1), object(1)\n",
      "memory usage: 1003.9+ KB\n"
     ]
    }
   ],
   "source": [
    "dataframe.info()"
   ]
  },
  {
   "cell_type": "code",
   "execution_count": 23,
   "id": "ddd22ae0-5178-41c0-b472-188e31ecaadc",
   "metadata": {},
   "outputs": [],
   "source": [
    "dataframe['text'] = dataframe['text'].str.replace(r'^.*\\(Reuters\\)\\s*-\\s*', '', regex=True)"
   ]
  },
  {
   "cell_type": "code",
   "execution_count": 24,
   "id": "94ec9e41-a9b9-4f1d-b084-eb772b30470e",
   "metadata": {},
   "outputs": [
    {
     "data": {
      "text/plain": [
       "'Brazilian President Michel Temer was cleared to leave hospital in Sao Paulo on Friday and will return to Brasilia in the afternoon, his office said. Temer, 77, underwent minor surgery on Wednesday for a narrowing of his urethra. [L1N1OD2AC] '"
      ]
     },
     "execution_count": 24,
     "metadata": {},
     "output_type": "execute_result"
    }
   ],
   "source": [
    "dataframe.iloc[12210,0]"
   ]
  },
  {
   "cell_type": "code",
   "execution_count": 25,
   "id": "e554d8fd-f859-473e-b612-4b4a9cb17be7",
   "metadata": {},
   "outputs": [],
   "source": [
    "def text_preprocessing(text):\n",
    "    text = re.sub(r\"[!@#$()-,\\n\\\"%^*?:.;~\\[\\]]\", \" \", text)\n",
    "    words = text.lower().split()\n",
    "    words = [word.replace(\"'\", \"\") for word in words if word not in stop_words and len(word) > 2]\n",
    "    return \" \".join(words)"
   ]
  },
  {
   "cell_type": "code",
   "execution_count": 26,
   "id": "3112a6aa-0be0-4836-8bc4-f22eea2d30d7",
   "metadata": {},
   "outputs": [],
   "source": [
    "dataframe['text'] = dataframe['text'].apply(text_preprocessing)"
   ]
  },
  {
   "cell_type": "code",
   "execution_count": 27,
   "id": "979499f9-b7de-4069-8f33-7fcbac14b193",
   "metadata": {},
   "outputs": [
    {
     "name": "stdout",
     "output_type": "stream",
     "text": [
      "<class 'pandas.core.frame.DataFrame'>\n",
      "Index: 42834 entries, 0 to 21416\n",
      "Data columns (total 2 columns):\n",
      " #   Column  Non-Null Count  Dtype \n",
      "---  ------  --------------  ----- \n",
      " 0   text    42834 non-null  object\n",
      " 1   label   42834 non-null  int64 \n",
      "dtypes: int64(1), object(1)\n",
      "memory usage: 1003.9+ KB\n"
     ]
    }
   ],
   "source": [
    "dataframe.info()"
   ]
  },
  {
   "cell_type": "code",
   "execution_count": 28,
   "id": "9fb9cadd-c848-4025-bf30-1483445f29ea",
   "metadata": {},
   "outputs": [],
   "source": [
    "dataframe['text'] = dataframe['text'].apply(lambda x: ' '.join([word for word in x.split() if len(word) > 2]))"
   ]
  },
  {
   "cell_type": "code",
   "execution_count": 29,
   "id": "a38b5424-bbb5-4846-bb61-077a007556d6",
   "metadata": {},
   "outputs": [],
   "source": [
    "for i in range(3):\n",
    "    dataframe = dataframe.sample(frac = 1)\n",
    "    if i == 2:\n",
    "        dataframe = dataframe.sample(frac = 1).reset_index(drop = True)"
   ]
  },
  {
   "cell_type": "code",
   "execution_count": 30,
   "id": "01b0e5a1-bba3-4123-a160-e7fa46d77cb1",
   "metadata": {},
   "outputs": [
    {
     "data": {
      "text/plain": [
       "('utils/models/tokenizer\\\\tokenizer_config.json',\n",
       " 'utils/models/tokenizer\\\\special_tokens_map.json',\n",
       " 'utils/models/tokenizer\\\\vocab.txt',\n",
       " 'utils/models/tokenizer\\\\added_tokens.json')"
      ]
     },
     "execution_count": 30,
     "metadata": {},
     "output_type": "execute_result"
    }
   ],
   "source": [
    "tokenizer = DistilBertTokenizer.from_pretrained('distilbert-base-uncased', do_lower_case = True)\n",
    "tokenizer.save_pretrained('utils/models/tokenizer')"
   ]
  },
  {
   "cell_type": "code",
   "execution_count": 31,
   "id": "42ae2587-fb69-4496-89ce-86e7bf6325df",
   "metadata": {},
   "outputs": [],
   "source": [
    "X_train, X_test = train_test_split(dataframe, test_size=0.2, random_state = 45)"
   ]
  },
  {
   "cell_type": "code",
   "execution_count": 32,
   "id": "84b5aac3-bd33-42ba-8d7d-02776df00516",
   "metadata": {},
   "outputs": [],
   "source": [
    "texts = X_train['text']"
   ]
  },
  {
   "cell_type": "code",
   "execution_count": 33,
   "id": "e9f5c4dc-625e-4468-86ba-2f201fc85951",
   "metadata": {},
   "outputs": [],
   "source": [
    "def sliding_window_tokenization(text, tokenizer, max_length=512, stride=128):\n",
    "\n",
    "    encoded_chunks = tokenizer(\n",
    "        text,\n",
    "        max_length=max_length,\n",
    "        truncation=True,\n",
    "        stride=stride,\n",
    "        return_overflowing_tokens=True,\n",
    "        return_tensors=\"pt\",\n",
    "        return_attention_mask = True,\n",
    "        padding='max_length'\n",
    "    )\n",
    "    \n",
    "    return encoded_chunks"
   ]
  },
  {
   "cell_type": "code",
   "execution_count": 34,
   "id": "3aebdc6e-5a93-496d-833f-cfbef2f15b6d",
   "metadata": {},
   "outputs": [],
   "source": [
    "input_ids_texts = []\n",
    "attention_masks_texts = []"
   ]
  },
  {
   "cell_type": "code",
   "execution_count": 35,
   "id": "0ac2c2d4-7f8c-4749-847e-edb258261dfd",
   "metadata": {},
   "outputs": [],
   "source": [
    "def tokenization(texts, input_ids_texts, attention_masks_texts):\n",
    "    for i, text in enumerate(texts):\n",
    "        encoded_chunks = sliding_window_tokenization(text, tokenizer)\n",
    "        \n",
    "        num_chunks = len(encoded_chunks['input_ids'])\n",
    "        \n",
    "        input_ids_texts.append(encoded_chunks['input_ids'])\n",
    "        attention_masks_texts.append(encoded_chunks['attention_mask'])\n",
    "    \n",
    "    input_ids_texts = torch.cat(input_ids_texts, dim=0)\n",
    "    attention_masks_texts = torch.cat(attention_masks_texts, dim=0)\n",
    "    return input_ids_texts, attention_masks_texts\n",
    "input_ids_texts, attention_masks_texts = tokenization(texts, input_ids_texts, attention_masks_texts)"
   ]
  },
  {
   "cell_type": "code",
   "execution_count": 36,
   "id": "8c4fad1d-9a43-46da-bca3-a4662eac1000",
   "metadata": {},
   "outputs": [],
   "source": [
    "Y = torch.tensor(X_train['label'].values)"
   ]
  },
  {
   "cell_type": "code",
   "execution_count": 37,
   "id": "653c1817-fd01-41c9-977f-1b3f59a68d28",
   "metadata": {},
   "outputs": [
    {
     "name": "stdout",
     "output_type": "stream",
     "text": [
      "30,840 training samples\n",
      "3,427 validation samples\n"
     ]
    }
   ],
   "source": [
    "dataset = TensorDataset(\n",
    "         input_ids_texts,\n",
    "         attention_masks_texts,\n",
    "         Y\n",
    "        )\n",
    "\n",
    "train_size = int(0.9 * len(dataset))\n",
    "val_size = len(dataset) - train_size\n",
    "\n",
    "train_dataset, val_dataset = random_split(dataset, [train_size, val_size])\n",
    "\n",
    "print('{:>5,} training samples'.format(train_size))\n",
    "print('{:>5,} validation samples'.format(val_size))"
   ]
  },
  {
   "cell_type": "code",
   "execution_count": 38,
   "id": "02c7d31c-8cc5-4c9c-8632-1038ee3e003f",
   "metadata": {},
   "outputs": [],
   "source": [
    "batch_size = 16\n",
    "\n",
    "train_dataloader = DataLoader(\n",
    "            train_dataset,\n",
    "            sampler = RandomSampler(train_dataset),\n",
    "            batch_size = batch_size\n",
    "        )\n",
    "\n",
    "validation_dataloader = DataLoader(\n",
    "            val_dataset,\n",
    "            sampler = SequentialSampler(val_dataset),\n",
    "            batch_size = batch_size\n",
    "        )"
   ]
  },
  {
   "cell_type": "code",
   "execution_count": 39,
   "id": "fb56d0d2-312e-4cf4-8c8d-c89ec2506de8",
   "metadata": {},
   "outputs": [
    {
     "name": "stderr",
     "output_type": "stream",
     "text": [
      "Some weights of DistilBertForSequenceClassification were not initialized from the model checkpoint at distilbert-base-uncased and are newly initialized: ['classifier.bias', 'classifier.weight', 'pre_classifier.bias', 'pre_classifier.weight']\n",
      "You should probably TRAIN this model on a down-stream task to be able to use it for predictions and inference.\n"
     ]
    },
    {
     "data": {
      "text/plain": [
       "DistilBertForSequenceClassification(\n",
       "  (distilbert): DistilBertModel(\n",
       "    (embeddings): Embeddings(\n",
       "      (word_embeddings): Embedding(30522, 768, padding_idx=0)\n",
       "      (position_embeddings): Embedding(512, 768)\n",
       "      (LayerNorm): LayerNorm((768,), eps=1e-12, elementwise_affine=True)\n",
       "      (dropout): Dropout(p=0.4, inplace=False)\n",
       "    )\n",
       "    (transformer): Transformer(\n",
       "      (layer): ModuleList(\n",
       "        (0-5): 6 x TransformerBlock(\n",
       "          (attention): DistilBertSdpaAttention(\n",
       "            (dropout): Dropout(p=0.1, inplace=False)\n",
       "            (q_lin): Linear(in_features=768, out_features=768, bias=True)\n",
       "            (k_lin): Linear(in_features=768, out_features=768, bias=True)\n",
       "            (v_lin): Linear(in_features=768, out_features=768, bias=True)\n",
       "            (out_lin): Linear(in_features=768, out_features=768, bias=True)\n",
       "          )\n",
       "          (sa_layer_norm): LayerNorm((768,), eps=1e-12, elementwise_affine=True)\n",
       "          (ffn): FFN(\n",
       "            (dropout): Dropout(p=0.4, inplace=False)\n",
       "            (lin1): Linear(in_features=768, out_features=3072, bias=True)\n",
       "            (lin2): Linear(in_features=3072, out_features=768, bias=True)\n",
       "            (activation): GELUActivation()\n",
       "          )\n",
       "          (output_layer_norm): LayerNorm((768,), eps=1e-12, elementwise_affine=True)\n",
       "        )\n",
       "      )\n",
       "    )\n",
       "  )\n",
       "  (pre_classifier): Linear(in_features=768, out_features=768, bias=True)\n",
       "  (classifier): Linear(in_features=768, out_features=2, bias=True)\n",
       "  (dropout): Dropout(p=0.2, inplace=False)\n",
       ")"
      ]
     },
     "execution_count": 39,
     "metadata": {},
     "output_type": "execute_result"
    }
   ],
   "source": [
    "model = DistilBertForSequenceClassification.from_pretrained(\n",
    "        'distilbert-base-uncased',\n",
    "        num_labels = 2,\n",
    "        output_attentions = False,\n",
    "        output_hidden_states = False,\n",
    "        dropout = 0.4\n",
    ")\n",
    "\n",
    "model.cuda()"
   ]
  },
  {
   "cell_type": "code",
   "execution_count": 40,
   "id": "c394c450-19c4-40ac-9d3f-b15858c6cab2",
   "metadata": {},
   "outputs": [],
   "source": [
    "optimizer = torch.optim.AdamW(model.parameters(),\n",
    "                  lr = 2e-5,\n",
    "                  eps = 1e-8,\n",
    "                  weight_decay = 0.01\n",
    "                 )"
   ]
  },
  {
   "cell_type": "code",
   "execution_count": 41,
   "id": "bda394ec-2390-4898-9e1a-d053a7d40dd0",
   "metadata": {},
   "outputs": [],
   "source": [
    "epochs = 5\n",
    "total_steps = len(train_dataloader) * epochs\n",
    "scheduler = get_linear_schedule_with_warmup(optimizer, \n",
    "                                            num_warmup_steps = 0, \n",
    "                                            num_training_steps = total_steps)"
   ]
  },
  {
   "cell_type": "code",
   "execution_count": 42,
   "id": "07c0333a-776e-4737-80ee-2b92e7f1f1c6",
   "metadata": {},
   "outputs": [],
   "source": [
    "def flat_accuracy(preds, labels):\n",
    "    pred_flat = np.argmax(preds, axis=1).flatten()\n",
    "    labels_flat = labels.flatten()\n",
    "    return np.sum(pred_flat == labels_flat) / len(labels_flat)"
   ]
  },
  {
   "cell_type": "code",
   "execution_count": 43,
   "id": "2e716d17-9006-4de0-ba5a-4cbd063cb1a0",
   "metadata": {},
   "outputs": [],
   "source": [
    "def format_time(elapsed):\n",
    "    elapsed_rounded = int(round(elapsed))\n",
    "    return str(datetime.timedelta(seconds = elapsed_rounded))"
   ]
  },
  {
   "cell_type": "code",
   "execution_count": 44,
   "id": "4b514862-c4d7-462c-a4fb-a744b11bbab2",
   "metadata": {},
   "outputs": [
    {
     "name": "stdout",
     "output_type": "stream",
     "text": [
      "\n",
      "======== Epoch 1 / 5 ========\n",
      "Training...\n",
      "  Batch    40  of  1,928.    Elapsed: 0:00:28.\n",
      "  Batch    80  of  1,928.    Elapsed: 0:00:56.\n",
      "  Batch   120  of  1,928.    Elapsed: 0:01:24.\n",
      "  Batch   160  of  1,928.    Elapsed: 0:01:53.\n",
      "  Batch   200  of  1,928.    Elapsed: 0:02:21.\n",
      "  Batch   240  of  1,928.    Elapsed: 0:02:50.\n",
      "  Batch   280  of  1,928.    Elapsed: 0:03:18.\n",
      "  Batch   320  of  1,928.    Elapsed: 0:03:47.\n",
      "  Batch   360  of  1,928.    Elapsed: 0:04:15.\n",
      "  Batch   400  of  1,928.    Elapsed: 0:04:44.\n",
      "  Batch   440  of  1,928.    Elapsed: 0:05:13.\n",
      "  Batch   480  of  1,928.    Elapsed: 0:05:41.\n",
      "  Batch   520  of  1,928.    Elapsed: 0:06:10.\n",
      "  Batch   560  of  1,928.    Elapsed: 0:06:39.\n",
      "  Batch   600  of  1,928.    Elapsed: 0:07:07.\n",
      "  Batch   640  of  1,928.    Elapsed: 0:07:36.\n",
      "  Batch   680  of  1,928.    Elapsed: 0:08:05.\n",
      "  Batch   720  of  1,928.    Elapsed: 0:08:34.\n",
      "  Batch   760  of  1,928.    Elapsed: 0:09:02.\n",
      "  Batch   800  of  1,928.    Elapsed: 0:09:31.\n",
      "  Batch   840  of  1,928.    Elapsed: 0:10:00.\n",
      "  Batch   880  of  1,928.    Elapsed: 0:10:29.\n",
      "  Batch   920  of  1,928.    Elapsed: 0:10:58.\n",
      "  Batch   960  of  1,928.    Elapsed: 0:11:27.\n",
      "  Batch 1,000  of  1,928.    Elapsed: 0:11:56.\n",
      "  Batch 1,040  of  1,928.    Elapsed: 0:12:25.\n",
      "  Batch 1,080  of  1,928.    Elapsed: 0:12:54.\n",
      "  Batch 1,120  of  1,928.    Elapsed: 0:13:23.\n",
      "  Batch 1,160  of  1,928.    Elapsed: 0:13:53.\n",
      "  Batch 1,200  of  1,928.    Elapsed: 0:14:22.\n",
      "  Batch 1,240  of  1,928.    Elapsed: 0:14:51.\n",
      "  Batch 1,280  of  1,928.    Elapsed: 0:15:20.\n",
      "  Batch 1,320  of  1,928.    Elapsed: 0:15:49.\n",
      "  Batch 1,360  of  1,928.    Elapsed: 0:16:18.\n",
      "  Batch 1,400  of  1,928.    Elapsed: 0:16:47.\n",
      "  Batch 1,440  of  1,928.    Elapsed: 0:17:16.\n",
      "  Batch 1,480  of  1,928.    Elapsed: 0:17:45.\n",
      "  Batch 1,520  of  1,928.    Elapsed: 0:18:15.\n",
      "  Batch 1,560  of  1,928.    Elapsed: 0:18:44.\n",
      "  Batch 1,600  of  1,928.    Elapsed: 0:19:12.\n",
      "  Batch 1,640  of  1,928.    Elapsed: 0:19:41.\n",
      "  Batch 1,680  of  1,928.    Elapsed: 0:20:10.\n",
      "  Batch 1,720  of  1,928.    Elapsed: 0:20:39.\n",
      "  Batch 1,760  of  1,928.    Elapsed: 0:21:07.\n",
      "  Batch 1,800  of  1,928.    Elapsed: 0:21:36.\n",
      "  Batch 1,840  of  1,928.    Elapsed: 0:22:05.\n",
      "  Batch 1,880  of  1,928.    Elapsed: 0:22:34.\n",
      "  Batch 1,920  of  1,928.    Elapsed: 0:23:02.\n",
      "\n",
      "  Average training loss: 0.07\n",
      "  Training epcoh took: 0:23:08\n",
      "\n",
      "Running Validation...\n",
      "  Accuracy: 0.99\n",
      "  Validation Loss: 0.04\n",
      "  Validation took: 0:00:49\n",
      "\n",
      "======== Epoch 2 / 5 ========\n",
      "Training...\n",
      "  Batch    40  of  1,928.    Elapsed: 0:00:28.\n",
      "  Batch    80  of  1,928.    Elapsed: 0:00:57.\n",
      "  Batch   120  of  1,928.    Elapsed: 0:01:26.\n",
      "  Batch   160  of  1,928.    Elapsed: 0:01:55.\n",
      "  Batch   200  of  1,928.    Elapsed: 0:02:23.\n",
      "  Batch   240  of  1,928.    Elapsed: 0:02:52.\n",
      "  Batch   280  of  1,928.    Elapsed: 0:03:21.\n",
      "  Batch   320  of  1,928.    Elapsed: 0:03:50.\n",
      "  Batch   360  of  1,928.    Elapsed: 0:04:18.\n",
      "  Batch   400  of  1,928.    Elapsed: 0:04:47.\n",
      "  Batch   440  of  1,928.    Elapsed: 0:05:16.\n",
      "  Batch   480  of  1,928.    Elapsed: 0:05:45.\n",
      "  Batch   520  of  1,928.    Elapsed: 0:06:14.\n",
      "  Batch   560  of  1,928.    Elapsed: 0:06:43.\n",
      "  Batch   600  of  1,928.    Elapsed: 0:07:12.\n",
      "  Batch   640  of  1,928.    Elapsed: 0:07:41.\n",
      "  Batch   680  of  1,928.    Elapsed: 0:08:10.\n",
      "  Batch   720  of  1,928.    Elapsed: 0:08:39.\n",
      "  Batch   760  of  1,928.    Elapsed: 0:09:07.\n",
      "  Batch   800  of  1,928.    Elapsed: 0:09:36.\n",
      "  Batch   840  of  1,928.    Elapsed: 0:10:05.\n",
      "  Batch   880  of  1,928.    Elapsed: 0:10:34.\n",
      "  Batch   920  of  1,928.    Elapsed: 0:11:03.\n",
      "  Batch   960  of  1,928.    Elapsed: 0:11:32.\n",
      "  Batch 1,000  of  1,928.    Elapsed: 0:12:01.\n",
      "  Batch 1,040  of  1,928.    Elapsed: 0:12:30.\n",
      "  Batch 1,080  of  1,928.    Elapsed: 0:12:59.\n",
      "  Batch 1,120  of  1,928.    Elapsed: 0:13:28.\n",
      "  Batch 1,160  of  1,928.    Elapsed: 0:13:57.\n",
      "  Batch 1,200  of  1,928.    Elapsed: 0:14:26.\n",
      "  Batch 1,240  of  1,928.    Elapsed: 0:14:56.\n",
      "  Batch 1,280  of  1,928.    Elapsed: 0:15:25.\n",
      "  Batch 1,320  of  1,928.    Elapsed: 0:15:53.\n",
      "  Batch 1,360  of  1,928.    Elapsed: 0:16:22.\n",
      "  Batch 1,400  of  1,928.    Elapsed: 0:16:52.\n",
      "  Batch 1,440  of  1,928.    Elapsed: 0:17:21.\n",
      "  Batch 1,480  of  1,928.    Elapsed: 0:17:50.\n",
      "  Batch 1,520  of  1,928.    Elapsed: 0:18:19.\n",
      "  Batch 1,560  of  1,928.    Elapsed: 0:18:48.\n",
      "  Batch 1,600  of  1,928.    Elapsed: 0:19:17.\n",
      "  Batch 1,640  of  1,928.    Elapsed: 0:19:46.\n",
      "  Batch 1,680  of  1,928.    Elapsed: 0:20:15.\n",
      "  Batch 1,720  of  1,928.    Elapsed: 0:20:44.\n",
      "  Batch 1,760  of  1,928.    Elapsed: 0:21:13.\n",
      "  Batch 1,800  of  1,928.    Elapsed: 0:21:42.\n",
      "  Batch 1,840  of  1,928.    Elapsed: 0:22:11.\n",
      "  Batch 1,880  of  1,928.    Elapsed: 0:22:40.\n",
      "  Batch 1,920  of  1,928.    Elapsed: 0:23:09.\n",
      "\n",
      "  Average training loss: 0.02\n",
      "  Training epcoh took: 0:23:14\n",
      "\n",
      "Running Validation...\n",
      "  Accuracy: 0.99\n",
      "  Validation Loss: 0.04\n",
      "  Validation took: 0:00:49\n",
      "\n",
      "======== Epoch 3 / 5 ========\n",
      "Training...\n",
      "  Batch    40  of  1,928.    Elapsed: 0:00:28.\n",
      "  Batch    80  of  1,928.    Elapsed: 0:00:57.\n",
      "  Batch   120  of  1,928.    Elapsed: 0:01:26.\n",
      "  Batch   160  of  1,928.    Elapsed: 0:01:55.\n",
      "  Batch   200  of  1,928.    Elapsed: 0:02:23.\n",
      "  Batch   240  of  1,928.    Elapsed: 0:02:52.\n",
      "  Batch   280  of  1,928.    Elapsed: 0:03:21.\n",
      "  Batch   320  of  1,928.    Elapsed: 0:03:50.\n",
      "  Batch   360  of  1,928.    Elapsed: 0:04:18.\n",
      "  Batch   400  of  1,928.    Elapsed: 0:04:47.\n",
      "  Batch   440  of  1,928.    Elapsed: 0:05:16.\n",
      "  Batch   480  of  1,928.    Elapsed: 0:05:45.\n",
      "  Batch   520  of  1,928.    Elapsed: 0:06:14.\n",
      "  Batch   560  of  1,928.    Elapsed: 0:06:42.\n",
      "  Batch   600  of  1,928.    Elapsed: 0:07:11.\n",
      "  Batch   640  of  1,928.    Elapsed: 0:07:41.\n",
      "  Batch   680  of  1,928.    Elapsed: 0:08:10.\n",
      "  Batch   720  of  1,928.    Elapsed: 0:08:39.\n",
      "  Batch   760  of  1,928.    Elapsed: 0:09:08.\n",
      "  Batch   800  of  1,928.    Elapsed: 0:09:37.\n",
      "  Batch   840  of  1,928.    Elapsed: 0:10:06.\n",
      "  Batch   880  of  1,928.    Elapsed: 0:10:35.\n",
      "  Batch   920  of  1,928.    Elapsed: 0:11:04.\n",
      "  Batch   960  of  1,928.    Elapsed: 0:11:34.\n",
      "  Batch 1,000  of  1,928.    Elapsed: 0:12:03.\n",
      "  Batch 1,040  of  1,928.    Elapsed: 0:12:32.\n",
      "  Batch 1,080  of  1,928.    Elapsed: 0:13:01.\n",
      "  Batch 1,120  of  1,928.    Elapsed: 0:13:31.\n",
      "  Batch 1,160  of  1,928.    Elapsed: 0:14:00.\n",
      "  Batch 1,200  of  1,928.    Elapsed: 0:14:29.\n",
      "  Batch 1,240  of  1,928.    Elapsed: 0:14:58.\n",
      "  Batch 1,280  of  1,928.    Elapsed: 0:15:27.\n",
      "  Batch 1,320  of  1,928.    Elapsed: 0:15:57.\n",
      "  Batch 1,360  of  1,928.    Elapsed: 0:16:26.\n",
      "  Batch 1,400  of  1,928.    Elapsed: 0:16:55.\n",
      "  Batch 1,440  of  1,928.    Elapsed: 0:17:24.\n",
      "  Batch 1,480  of  1,928.    Elapsed: 0:17:53.\n",
      "  Batch 1,520  of  1,928.    Elapsed: 0:18:22.\n",
      "  Batch 1,560  of  1,928.    Elapsed: 0:18:52.\n",
      "  Batch 1,600  of  1,928.    Elapsed: 0:19:21.\n",
      "  Batch 1,640  of  1,928.    Elapsed: 0:19:50.\n",
      "  Batch 1,680  of  1,928.    Elapsed: 0:20:19.\n",
      "  Batch 1,720  of  1,928.    Elapsed: 0:20:48.\n",
      "  Batch 1,760  of  1,928.    Elapsed: 0:21:17.\n",
      "  Batch 1,800  of  1,928.    Elapsed: 0:21:47.\n",
      "  Batch 1,840  of  1,928.    Elapsed: 0:22:16.\n",
      "  Batch 1,880  of  1,928.    Elapsed: 0:22:45.\n",
      "  Batch 1,920  of  1,928.    Elapsed: 0:23:14.\n",
      "\n",
      "  Average training loss: 0.01\n",
      "  Training epcoh took: 0:23:20\n",
      "\n",
      "Running Validation...\n",
      "  Accuracy: 1.00\n",
      "  Validation Loss: 0.02\n",
      "  Validation took: 0:00:49\n",
      "\n",
      "======== Epoch 4 / 5 ========\n",
      "Training...\n",
      "  Batch    40  of  1,928.    Elapsed: 0:00:29.\n",
      "  Batch    80  of  1,928.    Elapsed: 0:00:58.\n",
      "  Batch   120  of  1,928.    Elapsed: 0:01:27.\n",
      "  Batch   160  of  1,928.    Elapsed: 0:01:56.\n",
      "  Batch   200  of  1,928.    Elapsed: 0:02:25.\n",
      "  Batch   240  of  1,928.    Elapsed: 0:02:54.\n",
      "  Batch   280  of  1,928.    Elapsed: 0:03:23.\n",
      "  Batch   320  of  1,928.    Elapsed: 0:03:52.\n",
      "  Batch   360  of  1,928.    Elapsed: 0:04:21.\n",
      "  Batch   400  of  1,928.    Elapsed: 0:04:50.\n",
      "  Batch   440  of  1,928.    Elapsed: 0:05:19.\n",
      "  Batch   480  of  1,928.    Elapsed: 0:05:48.\n",
      "  Batch   520  of  1,928.    Elapsed: 0:06:17.\n",
      "  Batch   560  of  1,928.    Elapsed: 0:06:46.\n",
      "  Batch   600  of  1,928.    Elapsed: 0:07:15.\n",
      "  Batch   640  of  1,928.    Elapsed: 0:07:44.\n",
      "  Batch   680  of  1,928.    Elapsed: 0:08:12.\n",
      "  Batch   720  of  1,928.    Elapsed: 0:08:41.\n",
      "  Batch   760  of  1,928.    Elapsed: 0:09:10.\n",
      "  Batch   800  of  1,928.    Elapsed: 0:09:39.\n",
      "  Batch   840  of  1,928.    Elapsed: 0:10:08.\n",
      "  Batch   880  of  1,928.    Elapsed: 0:10:37.\n",
      "  Batch   920  of  1,928.    Elapsed: 0:11:05.\n",
      "  Batch   960  of  1,928.    Elapsed: 0:11:34.\n",
      "  Batch 1,000  of  1,928.    Elapsed: 0:12:03.\n",
      "  Batch 1,040  of  1,928.    Elapsed: 0:12:32.\n",
      "  Batch 1,080  of  1,928.    Elapsed: 0:13:01.\n",
      "  Batch 1,120  of  1,928.    Elapsed: 0:13:30.\n",
      "  Batch 1,160  of  1,928.    Elapsed: 0:13:58.\n",
      "  Batch 1,200  of  1,928.    Elapsed: 0:14:27.\n",
      "  Batch 1,240  of  1,928.    Elapsed: 0:14:56.\n",
      "  Batch 1,280  of  1,928.    Elapsed: 0:15:25.\n",
      "  Batch 1,320  of  1,928.    Elapsed: 0:15:54.\n",
      "  Batch 1,360  of  1,928.    Elapsed: 0:16:22.\n",
      "  Batch 1,400  of  1,928.    Elapsed: 0:16:51.\n",
      "  Batch 1,440  of  1,928.    Elapsed: 0:17:20.\n",
      "  Batch 1,480  of  1,928.    Elapsed: 0:17:49.\n",
      "  Batch 1,520  of  1,928.    Elapsed: 0:18:18.\n",
      "  Batch 1,560  of  1,928.    Elapsed: 0:18:46.\n",
      "  Batch 1,600  of  1,928.    Elapsed: 0:19:15.\n",
      "  Batch 1,640  of  1,928.    Elapsed: 0:19:44.\n",
      "  Batch 1,680  of  1,928.    Elapsed: 0:20:13.\n",
      "  Batch 1,720  of  1,928.    Elapsed: 0:20:42.\n",
      "  Batch 1,760  of  1,928.    Elapsed: 0:21:10.\n",
      "  Batch 1,800  of  1,928.    Elapsed: 0:21:39.\n",
      "  Batch 1,840  of  1,928.    Elapsed: 0:22:08.\n",
      "  Batch 1,880  of  1,928.    Elapsed: 0:22:37.\n",
      "  Batch 1,920  of  1,928.    Elapsed: 0:23:06.\n",
      "\n",
      "  Average training loss: 0.00\n",
      "  Training epcoh took: 0:23:11\n",
      "\n",
      "Running Validation...\n",
      "  Accuracy: 1.00\n",
      "  Validation Loss: 0.03\n",
      "  Validation took: 0:00:49\n",
      "\n",
      "======== Epoch 5 / 5 ========\n",
      "Training...\n",
      "  Batch    40  of  1,928.    Elapsed: 0:00:28.\n",
      "  Batch    80  of  1,928.    Elapsed: 0:00:57.\n",
      "  Batch   120  of  1,928.    Elapsed: 0:01:26.\n",
      "  Batch   160  of  1,928.    Elapsed: 0:01:55.\n",
      "  Batch   200  of  1,928.    Elapsed: 0:02:23.\n",
      "  Batch   240  of  1,928.    Elapsed: 0:02:52.\n",
      "  Batch   280  of  1,928.    Elapsed: 0:03:21.\n",
      "  Batch   320  of  1,928.    Elapsed: 0:03:50.\n",
      "  Batch   360  of  1,928.    Elapsed: 0:04:18.\n",
      "  Batch   400  of  1,928.    Elapsed: 0:04:47.\n",
      "  Batch   440  of  1,928.    Elapsed: 0:05:16.\n",
      "  Batch   480  of  1,928.    Elapsed: 0:05:45.\n",
      "  Batch   520  of  1,928.    Elapsed: 0:06:14.\n",
      "  Batch   560  of  1,928.    Elapsed: 0:06:42.\n",
      "  Batch   600  of  1,928.    Elapsed: 0:07:11.\n",
      "  Batch   640  of  1,928.    Elapsed: 0:07:40.\n",
      "  Batch   680  of  1,928.    Elapsed: 0:08:09.\n",
      "  Batch   720  of  1,928.    Elapsed: 0:08:37.\n",
      "  Batch   760  of  1,928.    Elapsed: 0:09:06.\n",
      "  Batch   800  of  1,928.    Elapsed: 0:09:35.\n",
      "  Batch   840  of  1,928.    Elapsed: 0:10:04.\n",
      "  Batch   880  of  1,928.    Elapsed: 0:10:33.\n",
      "  Batch   920  of  1,928.    Elapsed: 0:11:01.\n",
      "  Batch   960  of  1,928.    Elapsed: 0:11:30.\n",
      "  Batch 1,000  of  1,928.    Elapsed: 0:11:59.\n",
      "  Batch 1,040  of  1,928.    Elapsed: 0:12:28.\n",
      "  Batch 1,080  of  1,928.    Elapsed: 0:12:57.\n",
      "  Batch 1,120  of  1,928.    Elapsed: 0:13:26.\n",
      "  Batch 1,160  of  1,928.    Elapsed: 0:13:54.\n",
      "  Batch 1,200  of  1,928.    Elapsed: 0:14:23.\n",
      "  Batch 1,240  of  1,928.    Elapsed: 0:14:52.\n",
      "  Batch 1,280  of  1,928.    Elapsed: 0:15:21.\n",
      "  Batch 1,320  of  1,928.    Elapsed: 0:15:49.\n",
      "  Batch 1,360  of  1,928.    Elapsed: 0:16:18.\n",
      "  Batch 1,400  of  1,928.    Elapsed: 0:16:47.\n",
      "  Batch 1,440  of  1,928.    Elapsed: 0:17:16.\n",
      "  Batch 1,480  of  1,928.    Elapsed: 0:17:45.\n",
      "  Batch 1,520  of  1,928.    Elapsed: 0:18:13.\n",
      "  Batch 1,560  of  1,928.    Elapsed: 0:18:42.\n",
      "  Batch 1,600  of  1,928.    Elapsed: 0:19:11.\n",
      "  Batch 1,640  of  1,928.    Elapsed: 0:19:40.\n",
      "  Batch 1,680  of  1,928.    Elapsed: 0:20:09.\n",
      "  Batch 1,720  of  1,928.    Elapsed: 0:20:37.\n",
      "  Batch 1,760  of  1,928.    Elapsed: 0:21:06.\n",
      "  Batch 1,800  of  1,928.    Elapsed: 0:21:35.\n",
      "  Batch 1,840  of  1,928.    Elapsed: 0:22:04.\n",
      "  Batch 1,880  of  1,928.    Elapsed: 0:22:33.\n",
      "  Batch 1,920  of  1,928.    Elapsed: 0:23:01.\n",
      "\n",
      "  Average training loss: 0.00\n",
      "  Training epcoh took: 0:23:07\n",
      "\n",
      "Running Validation...\n",
      "  Accuracy: 1.00\n",
      "  Validation Loss: 0.03\n",
      "  Validation took: 0:00:49\n",
      "\n",
      "Training complete!\n",
      "Total training took 2:00:05 (h:mm:ss)\n"
     ]
    }
   ],
   "source": [
    "torch.cuda.empty_cache()\n",
    "seed_val = 42\n",
    "random.seed(seed_val)\n",
    "np.random.seed(seed_val)\n",
    "torch.manual_seed(seed_val)\n",
    "torch.cuda.manual_seed_all(seed_val)\n",
    "\n",
    "training_stats = []\n",
    "\n",
    "total_t0 = time.time()\n",
    "\n",
    "for epoch_i in range(0, epochs):\n",
    "    print(\"\")\n",
    "    print('======== Epoch {:} / {:} ========'.format(epoch_i + 1, epochs))\n",
    "    print('Training...')\n",
    "\n",
    "    t0 = time.time()\n",
    "    total_train_loss = 0\n",
    "    model.train()\n",
    "    \n",
    "    for step, batch in enumerate(train_dataloader):\n",
    "\n",
    "        if step % 40 == 0 and not step == 0:\n",
    "            elapsed = format_time(time.time() - t0)\n",
    "            \n",
    "            print('  Batch {:>5,}  of  {:>5,}.    Elapsed: {:}.'.format(step, len(train_dataloader), elapsed))\n",
    "            \n",
    "        b_input_ids = batch[0].to(device)\n",
    "        b_input_mask = batch[1].to(device)\n",
    "        b_labels = batch[2].to(device)\n",
    "\n",
    "        model.zero_grad()        \n",
    "        outputs = model(b_input_ids, \n",
    "                             # token_type_ids=None, \n",
    "                             attention_mask=b_input_mask, \n",
    "                             labels=b_labels)\n",
    "        \n",
    "        loss = outputs.loss\n",
    "        logits = outputs.logits\n",
    "        \n",
    "        total_train_loss += loss.item()\n",
    "        loss.backward()\n",
    "        torch.nn.utils.clip_grad_norm_(model.parameters(), 1.0)\n",
    "        optimizer.step()\n",
    "        scheduler.step()\n",
    "    avg_train_loss = total_train_loss / len(train_dataloader)            \n",
    "\n",
    "    training_time = format_time(time.time() - t0)\n",
    "\n",
    "    print(\"\")\n",
    "    print(\"  Average training loss: {0:.2f}\".format(avg_train_loss))\n",
    "    print(\"  Training epcoh took: {:}\".format(training_time))\n",
    "    print(\"\")\n",
    "    print(\"Running Validation...\")\n",
    "\n",
    "    t0 = time.time()\n",
    "    model.eval()\n",
    "\n",
    "    total_eval_accuracy = 0\n",
    "    total_eval_loss = 0\n",
    "    nb_eval_steps = 0\n",
    "\n",
    "    for batch in validation_dataloader:\n",
    "        b_input_ids = batch[0].to(device)\n",
    "        b_input_mask = batch[1].to(device)\n",
    "        b_labels = batch[2].to(device)\n",
    "        with torch.no_grad():        \n",
    "            outputs = model(b_input_ids, \n",
    "                                   # token_type_ids=None, \n",
    "                                   attention_mask=b_input_mask,\n",
    "                                   labels=b_labels)\n",
    "            loss = outputs.loss\n",
    "            logits = outputs.logits\n",
    "            \n",
    "        total_eval_loss += loss.item()\n",
    "        logits = logits.detach().cpu().numpy()\n",
    "        label_ids = b_labels.to('cpu').numpy()\n",
    "        total_eval_accuracy += flat_accuracy(logits, label_ids) \n",
    "        \n",
    "    avg_val_accuracy = total_eval_accuracy / len(validation_dataloader)\n",
    "    print(\"  Accuracy: {0:.2f}\".format(avg_val_accuracy))\n",
    "    avg_val_loss = total_eval_loss / len(validation_dataloader)\n",
    "    validation_time = format_time(time.time() - t0)\n",
    "    \n",
    "    print(\"  Validation Loss: {0:.2f}\".format(avg_val_loss))\n",
    "    print(\"  Validation took: {:}\".format(validation_time))\n",
    "    training_stats.append(\n",
    "        {\n",
    "            'epoch': epoch_i + 1,\n",
    "            'Training Loss': avg_train_loss,\n",
    "            'Valid. Loss': avg_val_loss,\n",
    "            'Valid. Accur.': avg_val_accuracy,\n",
    "            'Training Time': training_time,\n",
    "            'Validation Time': validation_time\n",
    "        }\n",
    "    )\n",
    "\n",
    "print(\"\")\n",
    "print(\"Training complete!\")\n",
    "\n",
    "print(\"Total training took {:} (h:mm:ss)\".format(format_time(time.time()-total_t0)))"
   ]
  },
  {
   "cell_type": "code",
   "execution_count": 45,
   "id": "1be71448-d1e3-40a2-9feb-c742e87eadb6",
   "metadata": {},
   "outputs": [
    {
     "data": {
      "text/html": [
       "<div>\n",
       "<style scoped>\n",
       "    .dataframe tbody tr th:only-of-type {\n",
       "        vertical-align: middle;\n",
       "    }\n",
       "\n",
       "    .dataframe tbody tr th {\n",
       "        vertical-align: top;\n",
       "    }\n",
       "\n",
       "    .dataframe thead th {\n",
       "        text-align: right;\n",
       "    }\n",
       "</style>\n",
       "<table border=\"1\" class=\"dataframe\">\n",
       "  <thead>\n",
       "    <tr style=\"text-align: right;\">\n",
       "      <th></th>\n",
       "      <th>Training Loss</th>\n",
       "      <th>Valid. Loss</th>\n",
       "      <th>Valid. Accur.</th>\n",
       "      <th>Training Time</th>\n",
       "      <th>Validation Time</th>\n",
       "    </tr>\n",
       "    <tr>\n",
       "      <th>epoch</th>\n",
       "      <th></th>\n",
       "      <th></th>\n",
       "      <th></th>\n",
       "      <th></th>\n",
       "      <th></th>\n",
       "    </tr>\n",
       "  </thead>\n",
       "  <tbody>\n",
       "    <tr>\n",
       "      <th>1</th>\n",
       "      <td>6.83e-02</td>\n",
       "      <td>0.04</td>\n",
       "      <td>0.99</td>\n",
       "      <td>0:23:08</td>\n",
       "      <td>0:00:49</td>\n",
       "    </tr>\n",
       "    <tr>\n",
       "      <th>2</th>\n",
       "      <td>1.59e-02</td>\n",
       "      <td>0.04</td>\n",
       "      <td>0.99</td>\n",
       "      <td>0:23:14</td>\n",
       "      <td>0:00:49</td>\n",
       "    </tr>\n",
       "    <tr>\n",
       "      <th>3</th>\n",
       "      <td>9.88e-03</td>\n",
       "      <td>0.02</td>\n",
       "      <td>1.00</td>\n",
       "      <td>0:23:20</td>\n",
       "      <td>0:00:49</td>\n",
       "    </tr>\n",
       "    <tr>\n",
       "      <th>4</th>\n",
       "      <td>3.10e-03</td>\n",
       "      <td>0.03</td>\n",
       "      <td>1.00</td>\n",
       "      <td>0:23:11</td>\n",
       "      <td>0:00:49</td>\n",
       "    </tr>\n",
       "    <tr>\n",
       "      <th>5</th>\n",
       "      <td>2.40e-03</td>\n",
       "      <td>0.03</td>\n",
       "      <td>1.00</td>\n",
       "      <td>0:23:07</td>\n",
       "      <td>0:00:49</td>\n",
       "    </tr>\n",
       "  </tbody>\n",
       "</table>\n",
       "</div>"
      ],
      "text/plain": [
       "       Training Loss  Valid. Loss  Valid. Accur. Training Time Validation Time\n",
       "epoch                                                                         \n",
       "1           6.83e-02         0.04           0.99       0:23:08         0:00:49\n",
       "2           1.59e-02         0.04           0.99       0:23:14         0:00:49\n",
       "3           9.88e-03         0.02           1.00       0:23:20         0:00:49\n",
       "4           3.10e-03         0.03           1.00       0:23:11         0:00:49\n",
       "5           2.40e-03         0.03           1.00       0:23:07         0:00:49"
      ]
     },
     "execution_count": 45,
     "metadata": {},
     "output_type": "execute_result"
    }
   ],
   "source": [
    "pd.set_option('display.precision', 2)\n",
    "df_stats = pd.DataFrame(data=training_stats)\n",
    "df_stats = df_stats.set_index('epoch')\n",
    "df_stats"
   ]
  },
  {
   "cell_type": "code",
   "execution_count": 46,
   "id": "7d0b338b-2777-4351-83aa-e544442a60ac",
   "metadata": {},
   "outputs": [
    {
     "data": {
      "image/png": "[encoded data removed]",
      "text/plain": [
       "<Figure size 640x480 with 1 Axes>"
      ]
     },
     "metadata": {},
     "output_type": "display_data"
    }
   ],
   "source": [
    "# Extract loss and accuracy values\n",
    "training_loss_values = [stat['Training Loss'] for stat in training_stats]\n",
    "validation_loss_values = [stat['Valid. Loss'] for stat in training_stats]\n",
    "\n",
    "# Plot loss over epochs\n",
    "plt.plot(training_loss_values, label='Training Loss')\n",
    "plt.plot(validation_loss_values, label='Validation Loss')\n",
    "plt.title('Training and Validation Loss')\n",
    "plt.xlabel('Epoch')\n",
    "plt.ylabel('Loss')\n",
    "plt.legend()\n",
    "plt.show()"
   ]
  },
  {
   "cell_type": "code",
   "execution_count": 47,
   "id": "212acd71-117c-45c3-89d4-360998f3ab51",
   "metadata": {},
   "outputs": [
    {
     "data": {
      "image/png": "[encoded data removed]",
      "text/plain": [
       "<Figure size 640x480 with 1 Axes>"
      ]
     },
     "metadata": {},
     "output_type": "display_data"
    }
   ],
   "source": [
    "validation_accuracy_values = [stat['Valid. Accur.'] for stat in training_stats]\n",
    "plt.plot(validation_accuracy_values, label='Validation Accuracy')\n",
    "plt.title('Validation Accuracy over Epochs')\n",
    "plt.xlabel('Epoch')\n",
    "plt.ylabel('Accuracy')\n",
    "plt.legend()\n",
    "plt.show()"
   ]
  },
  {
   "cell_type": "code",
   "execution_count": 48,
   "id": "9f397288-1a3a-4f53-b1ec-c342b40d0d25",
   "metadata": {},
   "outputs": [],
   "source": [
    "texts_tst = X_test['text']"
   ]
  },
  {
   "cell_type": "code",
   "execution_count": 49,
   "id": "2dd0ccef-5e73-4ad0-a156-da280ba488c3",
   "metadata": {},
   "outputs": [],
   "source": [
    "input_ids_texts = []\n",
    "attention_masks_texts = []"
   ]
  },
  {
   "cell_type": "code",
   "execution_count": 50,
   "id": "5e1589c8-7166-4f89-95f0-bfc740634c9c",
   "metadata": {},
   "outputs": [],
   "source": [
    "input_ids_texts, attention_masks_texts = tokenization(texts, input_ids_texts, attention_masks_texts)"
   ]
  },
  {
   "cell_type": "code",
   "execution_count": 51,
   "id": "4e7bf81a-dc13-40f1-8c6a-c98c7d2c62fe",
   "metadata": {},
   "outputs": [],
   "source": [
    "Y_tst = torch.tensor(X_test['label'].values)"
   ]
  },
  {
   "cell_type": "code",
   "execution_count": 52,
   "id": "796b6829-4640-4a80-a87c-3a402febc4db",
   "metadata": {},
   "outputs": [],
   "source": [
    "prediction_data = TensorDataset(\n",
    "         input_ids_texts,\n",
    "         attention_masks_texts,\n",
    "         Y\n",
    "        )\n",
    "prediction_sampler = SequentialSampler(prediction_data)\n",
    "prediction_dataloader = DataLoader(prediction_data, sampler = prediction_sampler, batch_size = batch_size)"
   ]
  },
  {
   "cell_type": "code",
   "execution_count": 53,
   "id": "51e4dcd0-3de6-4fee-a963-2c36715a7e4e",
   "metadata": {},
   "outputs": [
    {
     "data": {
      "text/plain": [
       "DistilBertForSequenceClassification(\n",
       "  (distilbert): DistilBertModel(\n",
       "    (embeddings): Embeddings(\n",
       "      (word_embeddings): Embedding(30522, 768, padding_idx=0)\n",
       "      (position_embeddings): Embedding(512, 768)\n",
       "      (LayerNorm): LayerNorm((768,), eps=1e-12, elementwise_affine=True)\n",
       "      (dropout): Dropout(p=0.4, inplace=False)\n",
       "    )\n",
       "    (transformer): Transformer(\n",
       "      (layer): ModuleList(\n",
       "        (0-5): 6 x TransformerBlock(\n",
       "          (attention): DistilBertSdpaAttention(\n",
       "            (dropout): Dropout(p=0.1, inplace=False)\n",
       "            (q_lin): Linear(in_features=768, out_features=768, bias=True)\n",
       "            (k_lin): Linear(in_features=768, out_features=768, bias=True)\n",
       "            (v_lin): Linear(in_features=768, out_features=768, bias=True)\n",
       "            (out_lin): Linear(in_features=768, out_features=768, bias=True)\n",
       "          )\n",
       "          (sa_layer_norm): LayerNorm((768,), eps=1e-12, elementwise_affine=True)\n",
       "          (ffn): FFN(\n",
       "            (dropout): Dropout(p=0.4, inplace=False)\n",
       "            (lin1): Linear(in_features=768, out_features=3072, bias=True)\n",
       "            (lin2): Linear(in_features=3072, out_features=768, bias=True)\n",
       "            (activation): GELUActivation()\n",
       "          )\n",
       "          (output_layer_norm): LayerNorm((768,), eps=1e-12, elementwise_affine=True)\n",
       "        )\n",
       "      )\n",
       "    )\n",
       "  )\n",
       "  (pre_classifier): Linear(in_features=768, out_features=768, bias=True)\n",
       "  (classifier): Linear(in_features=768, out_features=2, bias=True)\n",
       "  (dropout): Dropout(p=0.2, inplace=False)\n",
       ")"
      ]
     },
     "execution_count": 53,
     "metadata": {},
     "output_type": "execute_result"
    }
   ],
   "source": [
    "model.eval()"
   ]
  },
  {
   "cell_type": "code",
   "execution_count": 54,
   "id": "bed6725d-4098-4d99-831e-4c2923a010a5",
   "metadata": {},
   "outputs": [],
   "source": [
    "predictions, true_labels = [], []\n",
    "for batch in prediction_dataloader:\n",
    "    batch = tuple(t.to(device) for t in batch)\n",
    "    b_input_ids, b_input_mask, b_labels = batch\n",
    "    with torch.no_grad():\n",
    "        outputs = model(b_input_ids, \n",
    "                        #token_type_ids = None, \n",
    "                        attention_mask = b_input_mask)\n",
    "    logits = outputs[0]\n",
    "    logits = logits.detach().cpu().numpy()\n",
    "    label_ids = b_labels.to('cpu').numpy()\n",
    "    predictions.append(logits)\n",
    "    true_labels.append(label_ids)"
   ]
  },
  {
   "cell_type": "code",
   "execution_count": 55,
   "id": "5ee936a6-e0bb-42f6-a382-029ffb036fe3",
   "metadata": {},
   "outputs": [
    {
     "name": "stdout",
     "output_type": "stream",
     "text": [
      "Positive samples: 4318 of 8567 (50.40%)\n"
     ]
    }
   ],
   "source": [
    "print('Positive samples: %d of %d (%.2f%%)' % (X_test.label.sum(), len(X_test.label), (X_test.label.sum() / len(X_test.label) * 100.0)))"
   ]
  },
  {
   "cell_type": "code",
   "execution_count": 56,
   "id": "3f4284e5-4cc3-4e1d-9906-8ee3485229a5",
   "metadata": {},
   "outputs": [
    {
     "name": "stdout",
     "output_type": "stream",
     "text": [
      "Calculating Matthews Corr. Cef. for eact batch...\n"
     ]
    }
   ],
   "source": [
    "from sklearn.metrics import matthews_corrcoef\n",
    "matthews_set = []\n",
    "\n",
    "print('Calculating Matthews Corr. Cef. for eact batch...')\n",
    "\n",
    "for i in range(len(true_labels)):\n",
    "    pred_labels_i = np.argmax(predictions[i], axis =1).flatten()\n",
    "    matthews = matthews_corrcoef(true_labels[i], pred_labels_i)\n",
    "    matthews_set.append(matthews)"
   ]
  },
  {
   "cell_type": "code",
   "execution_count": 57,
   "id": "51f2b114-b8eb-40b9-9680-627db5aa0a04",
   "metadata": {},
   "outputs": [
    {
     "data": {
      "image/png": "[encoded data removed]",
      "text/plain": [
       "<Figure size 640x480 with 1 Axes>"
      ]
     },
     "metadata": {},
     "output_type": "display_data"
    }
   ],
   "source": [
    "ax = sns.barplot(x=list(range(len(matthews_set))), y=matthews_set, errorbar=None)\n",
    "plt.title('MCC Score per Batch')\n",
    "plt.ylabel('MCC Score (-1 to +1)')\n",
    "plt.xlabel('Batch #')\n",
    "plt.show()"
   ]
  },
  {
   "cell_type": "code",
   "execution_count": 58,
   "id": "0942f029-a3ac-4169-b421-673a505db68e",
   "metadata": {},
   "outputs": [
    {
     "name": "stdout",
     "output_type": "stream",
     "text": [
      "Total MCC:0.998\n"
     ]
    }
   ],
   "source": [
    "flat_predictions = np.concatenate(predictions, axis = 0)\n",
    "flat_predictions = np.argmax(flat_predictions, axis = 1).flatten()\n",
    "flat_true_labels = np.concatenate(true_labels, axis = 0)\n",
    "mcc = matthews_corrcoef(flat_true_labels, flat_predictions)\n",
    "print('Total MCC:%.3f' %mcc)"
   ]
  },
  {
   "cell_type": "code",
   "execution_count": 59,
   "id": "fec796ca-1a35-41cc-bbd1-d6ec910e4351",
   "metadata": {},
   "outputs": [
    {
     "data": {
      "image/png": "[encoded data removed]",
      "text/plain": [
       "<Figure size 600x500 with 2 Axes>"
      ]
     },
     "metadata": {},
     "output_type": "display_data"
    }
   ],
   "source": [
    "cm = confusion_matrix(flat_true_labels, flat_predictions)\n",
    "plt.figure(figsize=(6, 5))\n",
    "sns.heatmap(cm, annot=True, fmt='d', cmap='Blues', \n",
    "            xticklabels=['Predicted 0', 'Predicted 1'], \n",
    "            yticklabels=['Actual 0', 'Actual 1'])\n",
    "plt.xlabel('Predicted Label')\n",
    "plt.ylabel('True Label')\n",
    "plt.title('Confusion Matrix')\n",
    "plt.tight_layout()\n",
    "plt.show()"
   ]
  },
  {
   "cell_type": "code",
   "execution_count": 60,
   "id": "41f528cc-5650-497c-b679-97db7278b37d",
   "metadata": {},
   "outputs": [
    {
     "name": "stdout",
     "output_type": "stream",
     "text": [
      "              precision    recall  f1-score   support\n",
      "\n",
      "           0       1.00      1.00      1.00     17168\n",
      "           1       1.00      1.00      1.00     17099\n",
      "\n",
      "    accuracy                           1.00     34267\n",
      "   macro avg       1.00      1.00      1.00     34267\n",
      "weighted avg       1.00      1.00      1.00     34267\n",
      "\n"
     ]
    }
   ],
   "source": [
    "print(classification_report(flat_true_labels, flat_predictions))"
   ]
  },
  {
   "cell_type": "code",
   "execution_count": 61,
   "id": "0fbdca07-9d1a-448a-afb2-866ddc4294e2",
   "metadata": {},
   "outputs": [
    {
     "data": {
      "image/png": "[encoded data removed]",
      "text/plain": [
       "<Figure size 1000x700 with 1 Axes>"
      ]
     },
     "metadata": {},
     "output_type": "display_data"
    }
   ],
   "source": [
    "precision, recall, thresholds = precision_recall_curve(flat_true_labels, flat_predictions)\n",
    "avg_precision = average_precision_score(flat_true_labels, flat_predictions)\n",
    "\n",
    "# Calculate F1 and F2 scores\n",
    "f1_scores = 2 * (precision * recall) / (precision + recall + 1e-8)\n",
    "beta = 2\n",
    "f2_scores = (1 + beta**2) * (precision * recall) / (beta**2 * precision + recall + 1e-8)\n",
    "\n",
    "# Plot Precision-Recall Curve\n",
    "plt.figure(figsize=(10, 7))\n",
    "plt.plot(recall, precision, label='Precision-Recall Curve', linewidth=2)\n",
    "plt.title(f'Precision-Recall Tradeoff (AP = {avg_precision:.2f})')\n",
    "plt.xlabel('Recall')\n",
    "plt.ylabel('Precision')\n",
    "plt.grid(True)\n",
    "\n",
    "# Annotate a few thresholds\n",
    "for i in range(0, len(thresholds), max(1, len(thresholds)//10)):\n",
    "    plt.annotate(f\"{thresholds[i]:.2f}\",\n",
    "                 (recall[i], precision[i]),\n",
    "                 textcoords=\"offset points\",\n",
    "                 xytext=(0,5),\n",
    "                 ha='center',\n",
    "                 fontsize=8,\n",
    "                 color='gray')\n",
    "\n",
    "# Overlay F1 and F2 scores\n",
    "plt.plot(recall, f1_scores, linestyle='--', color='green', label='F1 Score')\n",
    "plt.plot(recall, f2_scores, linestyle='--', color='orange', label='F2 Score')\n",
    "\n",
    "# Highlight max F1 and F2 points\n",
    "max_f1_idx = np.argmax(f1_scores)\n",
    "max_f2_idx = np.argmax(f2_scores)\n",
    "\n",
    "plt.scatter(recall[max_f1_idx], precision[max_f1_idx], marker='o', color='green', label=f'Max F1 = {f1_scores[max_f1_idx]:.2f}')\n",
    "plt.scatter(recall[max_f2_idx], precision[max_f2_idx], marker='o', color='orange', label=f'Max F2 = {f2_scores[max_f2_idx]:.2f}')\n",
    "\n",
    "plt.legend()\n",
    "plt.tight_layout()\n",
    "plt.show()"
   ]
  },
  {
   "cell_type": "code",
   "execution_count": 63,
   "id": "caa94733-e726-4095-8606-f854f31cbcfc",
   "metadata": {},
   "outputs": [],
   "source": [
    "with open('utils/models/fakenews_detection.pkl', 'wb') as fake_news:\n",
    "    pickle.dump(model, fake_news)"
   ]
  },
  {
   "cell_type": "code",
   "execution_count": null,
   "id": "c0026cb6-8573-4f01-b2de-883bcba54cdd",
   "metadata": {},
   "outputs": [],
   "source": []
  }
 ],
 "metadata": {
  "kernelspec": {
   "display_name": "Python (fyp)",
   "language": "python",
   "name": "fyp"
  },
  "language_info": {
   "codemirror_mode": {
    "name": "ipython",
    "version": 3
   },
   "file_extension": ".py",
   "mimetype": "text/x-python",
   "name": "python",
   "nbconvert_exporter": "python",
   "pygments_lexer": "ipython3",
   "version": "3.12.3"
  }
 },
 "nbformat": 4,
 "nbformat_minor": 5
}
