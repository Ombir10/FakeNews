{
 "cells": [
  {
   "cell_type": "code",
   "execution_count": 70,
   "id": "4729af69-4533-4628-9698-fb4ed0114bdc",
   "metadata": {},
   "outputs": [],
   "source": [
    "import pandas as pd\n",
    "import random\n",
    "import numpy as np\n",
    "import time\n",
    "import datetime\n",
    "import matplotlib.pyplot as plt\n",
    "%matplotlib inline\n",
    "from sklearn.model_selection import train_test_split\n",
    "import seaborn as sns\n",
    "import re\n",
    "import pickle"
   ]
  },
  {
   "cell_type": "code",
   "execution_count": 2,
   "id": "190f8d36-2785-4848-9d10-a7036f279c0e",
   "metadata": {},
   "outputs": [
    {
     "name": "stderr",
     "output_type": "stream",
     "text": [
      "[nltk_data] Downloading package stopwords to C:\\Users\\raiom.LAPTOP-\n",
      "[nltk_data]     59QT21KS\\AppData\\Roaming\\nltk_data...\n",
      "[nltk_data]   Package stopwords is already up-to-date!\n",
      "[nltk_data] Downloading package punkt to C:\\Users\\raiom.LAPTOP-\n",
      "[nltk_data]     59QT21KS\\AppData\\Roaming\\nltk_data...\n",
      "[nltk_data]   Package punkt is already up-to-date!\n"
     ]
    }
   ],
   "source": [
    "from nltk.corpus import stopwords\n",
    "import nltk\n",
    "nltk.download('stopwords')\n",
    "nltk.download('punkt')\n",
    "\n",
    "stop_words = set(stopwords.words('english'))"
   ]
  },
  {
   "cell_type": "code",
   "execution_count": 3,
   "id": "a56ddc69-8c1c-4163-88e9-de3009ac4787",
   "metadata": {},
   "outputs": [],
   "source": [
    "import torch\n",
    "import torch.nn as nn\n",
    "from torch.utils.data import TensorDataset, random_split\n",
    "from torch.utils.data import DataLoader, RandomSampler, SequentialSampler\n",
    "if torch.cuda.is_available():       \n",
    "    device = torch.device(\"cuda\")\n",
    "    # print('There are %d GPU(s) available.' % torch.cuda.device_count())\n",
    "    # print('We will use the GPU:', torch.cuda.get_device_name(0))\n",
    "else:\n",
    "    # print('No GPU available, using the CPU instead.')\n",
    "    device = torch.device(\"cpu\")"
   ]
  },
  {
   "cell_type": "code",
   "execution_count": 4,
   "id": "aea45248-7107-4ce9-8a33-808eaceb98e8",
   "metadata": {},
   "outputs": [],
   "source": [
    "import transformers\n",
    "# from transformers import LongformerTokenizer, LongformerForSequenceClassification\n",
    "from transformers import DistilBertTokenizer\n",
    "from transformers import DistilBertForSequenceClassification, AdamW, BertConfig\n",
    "from transformers.optimization import get_linear_schedule_with_warmup"
   ]
  },
  {
   "cell_type": "code",
   "execution_count": 5,
   "id": "f97f55f3-17ed-4f90-ba79-a12efba2e7f3",
   "metadata": {},
   "outputs": [],
   "source": [
    "dataframe = pd.read_csv(r\"augmented_news_articles.csv\")"
   ]
  },
  {
   "cell_type": "code",
   "execution_count": 6,
   "id": "9f1a4380-4aa1-47c1-b929-f6137d3a5369",
   "metadata": {},
   "outputs": [],
   "source": [
    "# dataframe.head()"
   ]
  },
  {
   "cell_type": "code",
   "execution_count": 7,
   "id": "7fcc71f9-4167-4e46-b659-e4100039e229",
   "metadata": {},
   "outputs": [
    {
     "name": "stdout",
     "output_type": "stream",
     "text": [
      "<class 'pandas.core.frame.DataFrame'>\n",
      "RangeIndex: 6138 entries, 0 to 6137\n",
      "Data columns (total 2 columns):\n",
      " #   Column                  Non-Null Count  Dtype \n",
      "---  ------                  --------------  ----- \n",
      " 0   text_without_stopwords  6138 non-null   object\n",
      " 1   label                   6138 non-null   object\n",
      "dtypes: object(2)\n",
      "memory usage: 96.0+ KB\n"
     ]
    }
   ],
   "source": [
    "dataframe.info()"
   ]
  },
  {
   "cell_type": "code",
   "execution_count": 8,
   "id": "8132ce97-05fc-47e5-aaa2-f2e7c6d6c220",
   "metadata": {},
   "outputs": [],
   "source": [
    "# dataframe.isnull().sum()"
   ]
  },
  {
   "cell_type": "code",
   "execution_count": 9,
   "id": "f2bf06d7-4444-47bb-9463-1f8e6883366e",
   "metadata": {},
   "outputs": [],
   "source": [
    "# dataframe.dropna(inplace = True)"
   ]
  },
  {
   "cell_type": "code",
   "execution_count": 10,
   "id": "3fc948a7-938b-4581-9237-ece88428cd69",
   "metadata": {},
   "outputs": [],
   "source": [
    "# dataframe['label'].value_counts()"
   ]
  },
  {
   "cell_type": "code",
   "execution_count": 11,
   "id": "aafc98f6-175c-447d-8157-49d9984e11e8",
   "metadata": {},
   "outputs": [],
   "source": [
    "# dataframe['type'].value_counts()"
   ]
  },
  {
   "cell_type": "code",
   "execution_count": 12,
   "id": "322eda02-5d2a-424d-a973-3541d49bf867",
   "metadata": {},
   "outputs": [
    {
     "data": {
      "text/plain": [
       "False    6102\n",
       "True       36\n",
       "Name: count, dtype: int64"
      ]
     },
     "execution_count": 12,
     "metadata": {},
     "output_type": "execute_result"
    }
   ],
   "source": [
    "dataframe.duplicated().value_counts()"
   ]
  },
  {
   "cell_type": "code",
   "execution_count": 13,
   "id": "7b23a70a-95bc-4b9e-a8e4-105a10d6c51c",
   "metadata": {},
   "outputs": [],
   "source": [
    "# dataframe['language'].value_counts()"
   ]
  },
  {
   "cell_type": "code",
   "execution_count": 14,
   "id": "2b9cdb65-75ea-470b-9506-544e6f4ee4ab",
   "metadata": {},
   "outputs": [],
   "source": [
    "# dataframe = dataframe[dataframe['language'] == 'english'].reset_index(drop = True)"
   ]
  },
  {
   "cell_type": "code",
   "execution_count": 15,
   "id": "14ccfd01-059a-4d8b-a5dd-37bb2c22aa04",
   "metadata": {},
   "outputs": [],
   "source": [
    "# dataframe.info()"
   ]
  },
  {
   "cell_type": "code",
   "execution_count": 16,
   "id": "599fe48b-26b0-4c14-8acc-51da665df04f",
   "metadata": {},
   "outputs": [
    {
     "data": {
      "text/plain": [
       "False    6102\n",
       "True       36\n",
       "Name: count, dtype: int64"
      ]
     },
     "execution_count": 16,
     "metadata": {},
     "output_type": "execute_result"
    }
   ],
   "source": [
    "dataframe.duplicated().value_counts()"
   ]
  },
  {
   "cell_type": "code",
   "execution_count": 17,
   "id": "3fdc0aa4-0995-4a4b-b9e4-9475f6287820",
   "metadata": {},
   "outputs": [],
   "source": [
    "dataframe = dataframe.drop_duplicates().reset_index(drop = True)"
   ]
  },
  {
   "cell_type": "code",
   "execution_count": 18,
   "id": "801e22a7-7aaf-4d28-910b-b47a6574b249",
   "metadata": {},
   "outputs": [
    {
     "data": {
      "text/plain": [
       "False    6102\n",
       "Name: count, dtype: int64"
      ]
     },
     "execution_count": 18,
     "metadata": {},
     "output_type": "execute_result"
    }
   ],
   "source": [
    "dataframe.duplicated().value_counts()"
   ]
  },
  {
   "cell_type": "code",
   "execution_count": 19,
   "id": "a5b6a429-c23e-4007-9b3f-1eeb6e9164d1",
   "metadata": {},
   "outputs": [
    {
     "name": "stdout",
     "output_type": "stream",
     "text": [
      "<class 'pandas.core.frame.DataFrame'>\n",
      "RangeIndex: 6102 entries, 0 to 6101\n",
      "Data columns (total 2 columns):\n",
      " #   Column                  Non-Null Count  Dtype \n",
      "---  ------                  --------------  ----- \n",
      " 0   text_without_stopwords  6102 non-null   object\n",
      " 1   label                   6102 non-null   object\n",
      "dtypes: object(2)\n",
      "memory usage: 95.5+ KB\n"
     ]
    }
   ],
   "source": [
    "dataframe.info()"
   ]
  },
  {
   "cell_type": "code",
   "execution_count": 20,
   "id": "83d21ecd-be45-49d7-a274-c96edaa40fcf",
   "metadata": {},
   "outputs": [],
   "source": [
    "# missing_text_indices = dataframe[dataframe['text'].isna()].index.tolist()\n",
    "# print(missing_text_indices)"
   ]
  },
  {
   "cell_type": "code",
   "execution_count": 21,
   "id": "458ff532-86b7-4a22-a26d-fb67667c0eaf",
   "metadata": {},
   "outputs": [],
   "source": [
    "# print(dataframe['text'].loc[1958])"
   ]
  },
  {
   "cell_type": "code",
   "execution_count": 22,
   "id": "b08dd078-315c-4eca-ad7e-ac3dfa1e8b67",
   "metadata": {},
   "outputs": [],
   "source": [
    "# pattern = re.compile(r'[!@#$(),\\n\"%^*?\\:;~0-9\\[\\]]')\n",
    "# data_list = []\n",
    "\n",
    "# def remove_stop_words(text):\n",
    "#     data_list.clear()\n",
    "#     words = text.split()\n",
    "#     for word in words:\n",
    "#         new_word = pattern.sub('', word).lower().strip()\n",
    "#         if new_word and new_word not in stop_words:\n",
    "#             data_list.append(new_word)\n",
    "#     return ' '.join(data_list)"
   ]
  },
  {
   "cell_type": "code",
   "execution_count": 23,
   "id": "2b7ecd0f-9f23-4685-9aaa-7a37c5cb709f",
   "metadata": {},
   "outputs": [],
   "source": [
    "# for i in range(1958, 1961):\n",
    "#     data  = dataframe['text'].loc[i]\n",
    "#     text_without_stopwords = remove_stop_words(data)\n",
    "#     dataframe.at[i, 'text_without_stopwords'] = text_without_stopwords"
   ]
  },
  {
   "cell_type": "code",
   "execution_count": 24,
   "id": "cca3532a-df7a-4ee2-8496-020931c22379",
   "metadata": {},
   "outputs": [],
   "source": [
    "# dataframe.info()"
   ]
  },
  {
   "cell_type": "code",
   "execution_count": 25,
   "id": "3604b5a6-aa8c-4756-8c96-575666defe9c",
   "metadata": {},
   "outputs": [],
   "source": [
    "# df = dataframe.drop(columns = ['author', 'published', 'title', 'text','title_without_stopwords', 'type', 'language', 'main_img_url', 'hasImage', 'site_url'])"
   ]
  },
  {
   "cell_type": "code",
   "execution_count": 26,
   "id": "d13f0727-b2e5-4928-9515-51c16609faf1",
   "metadata": {},
   "outputs": [],
   "source": [
    "# df.info()"
   ]
  },
  {
   "cell_type": "code",
   "execution_count": 27,
   "id": "57f16cf8-ab3e-4fcc-8955-93fe3e044bb9",
   "metadata": {},
   "outputs": [],
   "source": [
    "# df.dropna(inplace = True)"
   ]
  },
  {
   "cell_type": "code",
   "execution_count": 28,
   "id": "e554d8fd-f859-473e-b612-4b4a9cb17be7",
   "metadata": {},
   "outputs": [],
   "source": [
    "# df.info()"
   ]
  },
  {
   "cell_type": "code",
   "execution_count": 29,
   "id": "3112a6aa-0be0-4836-8bc4-f22eea2d30d7",
   "metadata": {},
   "outputs": [],
   "source": [
    "# df['label'] = df['label'].map({'Fake': 1, 'Real':0})\n",
    "dataframe['label'] = dataframe['label'].map({'Fake':1, 'Real':0})"
   ]
  },
  {
   "cell_type": "code",
   "execution_count": 30,
   "id": "f230732b-dd1a-4fcd-8ac3-ce06f06052f9",
   "metadata": {},
   "outputs": [],
   "source": [
    "# import spacy\n",
    "\n",
    "# nlp = spacy.load('en_core_web_sm')\n",
    "\n",
    "# def lemmatize_text(text):\n",
    "#     doc = nlp(text)\n",
    "#     return \" \".join([token.lemma_ for token in doc])\n",
    "\n",
    "# df['text_without_stopwords'] = df['text_without_stopwords'].apply(lemmatize_text)"
   ]
  },
  {
   "cell_type": "code",
   "execution_count": 31,
   "id": "f87ad72f-98a8-4c4c-8cba-1e38e4f87e7c",
   "metadata": {},
   "outputs": [],
   "source": [
    "# from nltk.stem import PorterStemmer\n",
    "\n",
    "# stemmer = PorterStemmer()\n",
    "\n",
    "# def stem_words(tokens):\n",
    "#     return [stemmer.stem(word) for word in tokens]"
   ]
  },
  {
   "cell_type": "code",
   "execution_count": 32,
   "id": "ec63c0e7-432f-454b-9f7e-c9b4d7f58e63",
   "metadata": {},
   "outputs": [],
   "source": [
    "# df['text_without_stopwords'] = df['text_without_stopwords'].apply(stem_words)"
   ]
  },
  {
   "cell_type": "code",
   "execution_count": 33,
   "id": "9fb9cadd-c848-4025-bf30-1483445f29ea",
   "metadata": {},
   "outputs": [],
   "source": [
    "dataframe['text_without_stopowords'] = dataframe['text_without_stopwords'].apply(lambda x: ' '.join([word for word in x.split() if len(word) > 2]))"
   ]
  },
  {
   "cell_type": "code",
   "execution_count": 34,
   "id": "87a01790-ecfa-41fc-a090-938171712f9c",
   "metadata": {},
   "outputs": [],
   "source": [
    "dataframe['text_without_stopwords'] = dataframe['text_without_stopwords'].apply(lambda x: re.sub(r'(plead the fifth|corrupt to the core)', '', x, flags=re.IGNORECASE))"
   ]
  },
  {
   "cell_type": "code",
   "execution_count": 76,
   "id": "01b0e5a1-bba3-4123-a160-e7fa46d77cb1",
   "metadata": {},
   "outputs": [
    {
     "data": {
      "text/plain": [
       "('utils/models/tokenizer\\\\tokenizer_config.json',\n",
       " 'utils/models/tokenizer\\\\special_tokens_map.json',\n",
       " 'utils/models/tokenizer\\\\vocab.txt',\n",
       " 'utils/models/tokenizer\\\\added_tokens.json')"
      ]
     },
     "execution_count": 76,
     "metadata": {},
     "output_type": "execute_result"
    }
   ],
   "source": [
    "tokenizer = DistilBertTokenizer.from_pretrained('distilbert-base-uncased', do_lower_case = True)\n",
    "tokenizer.save_pretrained('utils/models/tokenizer')\n",
    "# tokenizer = LongformerTokenizer.from_pretrained('allenai/longformer-base-4096', do_lower_case = True)"
   ]
  },
  {
   "cell_type": "code",
   "execution_count": 36,
   "id": "42ae2587-fb69-4496-89ce-86e7bf6325df",
   "metadata": {},
   "outputs": [],
   "source": [
    "X_train, X_test = train_test_split(dataframe, test_size=0.2, random_state = 45)"
   ]
  },
  {
   "cell_type": "code",
   "execution_count": 37,
   "id": "84b5aac3-bd33-42ba-8d7d-02776df00516",
   "metadata": {},
   "outputs": [],
   "source": [
    "texts = X_train['text_without_stopwords']"
   ]
  },
  {
   "cell_type": "code",
   "execution_count": 38,
   "id": "9bb2f693-1ab2-414d-908e-82acd3dd49d0",
   "metadata": {},
   "outputs": [],
   "source": [
    "# max_len_title = 0\n",
    "# for title in titles:\n",
    "#     input_ids = tokenizer.encode(title,  add_special_tokens = True)\n",
    "#     max_len_title = max(max_len_title, len(input_ids))\n",
    "# # print('Max sentence length:', max_len_title)"
   ]
  },
  {
   "cell_type": "code",
   "execution_count": 39,
   "id": "e9f5c4dc-625e-4468-86ba-2f201fc85951",
   "metadata": {},
   "outputs": [],
   "source": [
    "def sliding_window_tokenization(text, tokenizer, max_length=512, stride=128):\n",
    "\n",
    "    encoded_chunks = tokenizer(\n",
    "        text,\n",
    "        max_length=max_length,\n",
    "        truncation=True,\n",
    "        stride=stride,\n",
    "        return_overflowing_tokens=True,\n",
    "        return_tensors=\"pt\",\n",
    "        return_attention_mask = True,\n",
    "        padding='max_length'\n",
    "    )\n",
    "    \n",
    "    return encoded_chunks\n",
    "# def longformer_tokenization(text, tokenizer, max_length = 4096):\n",
    "#     encoded_chunks = tokenizer(\n",
    "#         text,\n",
    "#         max_length = max_length,\n",
    "#         truncations = True,\n",
    "#         padding = 'max_length',\n",
    "#         return_tensors = 'pt',\n",
    "#         return_attention_masks = True\n",
    "#     )\n",
    "#     return encoded_chunks"
   ]
  },
  {
   "cell_type": "code",
   "execution_count": 40,
   "id": "3aebdc6e-5a93-496d-833f-cfbef2f15b6d",
   "metadata": {},
   "outputs": [],
   "source": [
    "input_ids_texts = []\n",
    "attention_masks_texts = []"
   ]
  },
  {
   "cell_type": "code",
   "execution_count": 41,
   "id": "35eb921f-7e26-484b-8ea0-7c4fd1ec33fa",
   "metadata": {},
   "outputs": [],
   "source": [
    "# for title in titles:\n",
    "#     encoded_dict = tokenizer.encode_plus(\n",
    "#                         title,\n",
    "#                         add_special_tokens = True,\n",
    "#                         max_length = max_len_title,\n",
    "#                         padding = 'max_length',\n",
    "#                         truncation = True,\n",
    "#                         return_attention_mask = True,\n",
    "#                         return_tensors = 'pt'\n",
    "#                 )\n",
    "#     input_ids_titles.append(encoded_dict['input_ids'])\n",
    "#     attention_masks_titles.append(encoded_dict['attention_mask'])\n",
    "\n",
    "# input_ids_titles = torch.cat(input_ids_titles, dim = 0)\n",
    "# attention_masks_titles = torch.cat(attention_masks_titles, dim = 0)"
   ]
  },
  {
   "cell_type": "code",
   "execution_count": 42,
   "id": "0ac2c2d4-7f8c-4749-847e-edb258261dfd",
   "metadata": {},
   "outputs": [],
   "source": [
    "# replicated_titles = []\n",
    "# replicated_masks = []\n",
    "def tokenization(texts, input_ids_texts, attention_masks_texts):\n",
    "    for i, text in enumerate(texts):\n",
    "        encoded_chunks = sliding_window_tokenization(text, tokenizer)\n",
    "        \n",
    "        num_chunks = len(encoded_chunks['input_ids'])\n",
    "        \n",
    "        input_ids_texts.append(encoded_chunks['input_ids'])\n",
    "        attention_masks_texts.append(encoded_chunks['attention_mask'])\n",
    "        \n",
    "        # replicated_titles.extend([input_ids_titles[i]] * num_chunks)\n",
    "        # replicated_masks.extend([attention_masks_titles[i]] * num_chunks)\n",
    "    \n",
    "    \n",
    "    input_ids_texts = torch.cat(input_ids_texts, dim=0)\n",
    "    attention_masks_texts = torch.cat(attention_masks_texts, dim=0)\n",
    "    return input_ids_texts, attention_masks_texts\n",
    "input_ids_texts, attention_masks_texts = tokenization(texts, input_ids_texts, attention_masks_texts)\n",
    "\n",
    "# def tokenization(texts, input_ids_texts, attention_masks_texts):\n",
    "#     for i, text in enumerate(texts):\n",
    "#         encoded_chunks = longformer_tokenization(text, tokenizer)\n",
    "#         input_ids_texts.append(encoded_chunks['input_ids'])\n",
    "#         attention_masks_texts.append(encoded_chunks['attention_mask'])\n",
    "\n",
    "#     input_ids_texts = torch.cat(input_ids_texts, dim=0)\n",
    "#     attention_masks_texts = torch.cat(attention_masks_texts,  dim=0)\n",
    "#     return input_ids_texts, attention_masks_texts\n",
    "\n",
    "# input_ids_texts, attention_masks_texts = tokenization(texts, input_ids_texts, attention_masks_texts)"
   ]
  },
  {
   "cell_type": "code",
   "execution_count": 43,
   "id": "8c4fad1d-9a43-46da-bca3-a4662eac1000",
   "metadata": {},
   "outputs": [],
   "source": [
    "Y = torch.tensor(X_train['label'].values)"
   ]
  },
  {
   "cell_type": "code",
   "execution_count": 44,
   "id": "653c1817-fd01-41c9-977f-1b3f59a68d28",
   "metadata": {},
   "outputs": [
    {
     "name": "stdout",
     "output_type": "stream",
     "text": [
      "4,392 training samples\n",
      "  489 validation samples\n"
     ]
    }
   ],
   "source": [
    "dataset = TensorDataset(\n",
    "         # replicated_titles,\n",
    "         # replicated_masks,\n",
    "         input_ids_texts,\n",
    "         attention_masks_texts,\n",
    "         Y\n",
    "        )\n",
    "\n",
    "train_size = int(0.9 * len(dataset))\n",
    "val_size = len(dataset) - train_size\n",
    "\n",
    "train_dataset, val_dataset = random_split(dataset, [train_size, val_size])\n",
    "\n",
    "print('{:>5,} training samples'.format(train_size))\n",
    "print('{:>5,} validation samples'.format(val_size))"
   ]
  },
  {
   "cell_type": "code",
   "execution_count": 45,
   "id": "02c7d31c-8cc5-4c9c-8632-1038ee3e003f",
   "metadata": {},
   "outputs": [],
   "source": [
    "batch_size = 16\n",
    "\n",
    "train_dataloader = DataLoader(\n",
    "            train_dataset,\n",
    "            sampler = RandomSampler(train_dataset),\n",
    "            batch_size = batch_size\n",
    "        )\n",
    "\n",
    "validation_dataloader = DataLoader(\n",
    "            val_dataset,\n",
    "            sampler = SequentialSampler(val_dataset),\n",
    "            batch_size = batch_size\n",
    "        )"
   ]
  },
  {
   "cell_type": "code",
   "execution_count": 46,
   "id": "fb56d0d2-312e-4cf4-8c8d-c89ec2506de8",
   "metadata": {},
   "outputs": [
    {
     "name": "stderr",
     "output_type": "stream",
     "text": [
      "Some weights of DistilBertForSequenceClassification were not initialized from the model checkpoint at distilbert-base-uncased and are newly initialized: ['classifier.bias', 'classifier.weight', 'pre_classifier.bias', 'pre_classifier.weight']\n",
      "You should probably TRAIN this model on a down-stream task to be able to use it for predictions and inference.\n"
     ]
    },
    {
     "data": {
      "text/plain": [
       "DistilBertForSequenceClassification(\n",
       "  (distilbert): DistilBertModel(\n",
       "    (embeddings): Embeddings(\n",
       "      (word_embeddings): Embedding(30522, 768, padding_idx=0)\n",
       "      (position_embeddings): Embedding(512, 768)\n",
       "      (LayerNorm): LayerNorm((768,), eps=1e-12, elementwise_affine=True)\n",
       "      (dropout): Dropout(p=0.1, inplace=False)\n",
       "    )\n",
       "    (transformer): Transformer(\n",
       "      (layer): ModuleList(\n",
       "        (0-5): 6 x TransformerBlock(\n",
       "          (attention): DistilBertSdpaAttention(\n",
       "            (dropout): Dropout(p=0.1, inplace=False)\n",
       "            (q_lin): Linear(in_features=768, out_features=768, bias=True)\n",
       "            (k_lin): Linear(in_features=768, out_features=768, bias=True)\n",
       "            (v_lin): Linear(in_features=768, out_features=768, bias=True)\n",
       "            (out_lin): Linear(in_features=768, out_features=768, bias=True)\n",
       "          )\n",
       "          (sa_layer_norm): LayerNorm((768,), eps=1e-12, elementwise_affine=True)\n",
       "          (ffn): FFN(\n",
       "            (dropout): Dropout(p=0.1, inplace=False)\n",
       "            (lin1): Linear(in_features=768, out_features=3072, bias=True)\n",
       "            (lin2): Linear(in_features=3072, out_features=768, bias=True)\n",
       "            (activation): GELUActivation()\n",
       "          )\n",
       "          (output_layer_norm): LayerNorm((768,), eps=1e-12, elementwise_affine=True)\n",
       "        )\n",
       "      )\n",
       "    )\n",
       "  )\n",
       "  (pre_classifier): Linear(in_features=768, out_features=768, bias=True)\n",
       "  (classifier): Linear(in_features=768, out_features=2, bias=True)\n",
       "  (dropout): Dropout(p=0.2, inplace=False)\n",
       ")"
      ]
     },
     "execution_count": 46,
     "metadata": {},
     "output_type": "execute_result"
    }
   ],
   "source": [
    "model = DistilBertForSequenceClassification.from_pretrained(\n",
    "        'distilbert-base-uncased',\n",
    "        num_labels = 2,\n",
    "        output_attentions = False,\n",
    "        output_hidden_states = False,\n",
    "        # hidden_dropout_prob = 0.4\n",
    ")\n",
    "\n",
    "model.cuda()"
   ]
  },
  {
   "cell_type": "code",
   "execution_count": 47,
   "id": "c394c450-19c4-40ac-9d3f-b15858c6cab2",
   "metadata": {},
   "outputs": [],
   "source": [
    "optimizer = torch.optim.AdamW(model.parameters(),\n",
    "                  lr = 2e-5,\n",
    "                  eps = 1e-8,\n",
    "                  weight_decay = 0.01\n",
    "                 )"
   ]
  },
  {
   "cell_type": "code",
   "execution_count": 48,
   "id": "bda394ec-2390-4898-9e1a-d053a7d40dd0",
   "metadata": {},
   "outputs": [],
   "source": [
    "epochs = 10\n",
    "total_steps = len(train_dataloader) * epochs\n",
    "scheduler = get_linear_schedule_with_warmup(optimizer, \n",
    "                                            num_warmup_steps = 0, \n",
    "                                            num_training_steps = total_steps)"
   ]
  },
  {
   "cell_type": "code",
   "execution_count": 49,
   "id": "07c0333a-776e-4737-80ee-2b92e7f1f1c6",
   "metadata": {},
   "outputs": [],
   "source": [
    "def flat_accuracy(preds, labels):\n",
    "    pred_flat = np.argmax(preds, axis=1).flatten()\n",
    "    labels_flat = labels.flatten()\n",
    "    return np.sum(pred_flat == labels_flat) / len(labels_flat)"
   ]
  },
  {
   "cell_type": "code",
   "execution_count": 50,
   "id": "2e716d17-9006-4de0-ba5a-4cbd063cb1a0",
   "metadata": {},
   "outputs": [],
   "source": [
    "def format_time(elapsed):\n",
    "    elapsed_rounded = int(round(elapsed))\n",
    "    return str(datetime.timedelta(seconds = elapsed_rounded))"
   ]
  },
  {
   "cell_type": "code",
   "execution_count": 51,
   "id": "4b514862-c4d7-462c-a4fb-a744b11bbab2",
   "metadata": {},
   "outputs": [
    {
     "name": "stdout",
     "output_type": "stream",
     "text": [
      "\n",
      "======== Epoch 1 / 10 ========\n",
      "Training...\n",
      "  Batch    40  of    275.    Elapsed: 0:00:38.\n",
      "  Batch    80  of    275.    Elapsed: 0:01:25.\n",
      "  Batch   120  of    275.    Elapsed: 0:02:13.\n",
      "  Batch   160  of    275.    Elapsed: 0:02:58.\n",
      "  Batch   200  of    275.    Elapsed: 0:03:44.\n",
      "  Batch   240  of    275.    Elapsed: 0:04:30.\n",
      "\n",
      "  Average training loss: 0.59\n",
      "  Training epcoh took: 0:05:10\n",
      "\n",
      "Running Validation...\n",
      "  Accuracy: 0.68\n",
      "  Validation Loss: 0.58\n",
      "  Validation took: 0:00:11\n",
      "\n",
      "======== Epoch 2 / 10 ========\n",
      "Training...\n",
      "  Batch    40  of    275.    Elapsed: 0:00:45.\n",
      "  Batch    80  of    275.    Elapsed: 0:01:31.\n",
      "  Batch   120  of    275.    Elapsed: 0:02:17.\n",
      "  Batch   160  of    275.    Elapsed: 0:03:03.\n",
      "  Batch   200  of    275.    Elapsed: 0:03:49.\n",
      "  Batch   240  of    275.    Elapsed: 0:04:35.\n",
      "\n",
      "  Average training loss: 0.41\n",
      "  Training epcoh took: 0:05:15\n",
      "\n",
      "Running Validation...\n",
      "  Accuracy: 0.75\n",
      "  Validation Loss: 0.64\n",
      "  Validation took: 0:00:11\n",
      "\n",
      "======== Epoch 3 / 10 ========\n",
      "Training...\n",
      "  Batch    40  of    275.    Elapsed: 0:00:45.\n",
      "  Batch    80  of    275.    Elapsed: 0:01:31.\n",
      "  Batch   120  of    275.    Elapsed: 0:02:17.\n",
      "  Batch   160  of    275.    Elapsed: 0:03:03.\n",
      "  Batch   200  of    275.    Elapsed: 0:03:49.\n",
      "  Batch   240  of    275.    Elapsed: 0:04:35.\n",
      "\n",
      "  Average training loss: 0.26\n",
      "  Training epcoh took: 0:05:15\n",
      "\n",
      "Running Validation...\n",
      "  Accuracy: 0.88\n",
      "  Validation Loss: 0.33\n",
      "  Validation took: 0:00:11\n",
      "\n",
      "======== Epoch 4 / 10 ========\n",
      "Training...\n",
      "  Batch    40  of    275.    Elapsed: 0:00:45.\n",
      "  Batch    80  of    275.    Elapsed: 0:01:31.\n",
      "  Batch   120  of    275.    Elapsed: 0:02:17.\n",
      "  Batch   160  of    275.    Elapsed: 0:03:03.\n",
      "  Batch   200  of    275.    Elapsed: 0:03:49.\n",
      "  Batch   240  of    275.    Elapsed: 0:04:35.\n",
      "\n",
      "  Average training loss: 0.15\n",
      "  Training epcoh took: 0:05:15\n",
      "\n",
      "Running Validation...\n",
      "  Accuracy: 0.89\n",
      "  Validation Loss: 0.38\n",
      "  Validation took: 0:00:11\n",
      "\n",
      "======== Epoch 5 / 10 ========\n",
      "Training...\n",
      "  Batch    40  of    275.    Elapsed: 0:00:45.\n",
      "  Batch    80  of    275.    Elapsed: 0:01:31.\n",
      "  Batch   120  of    275.    Elapsed: 0:02:17.\n",
      "  Batch   160  of    275.    Elapsed: 0:03:03.\n",
      "  Batch   200  of    275.    Elapsed: 0:03:49.\n",
      "  Batch   240  of    275.    Elapsed: 0:04:35.\n",
      "\n",
      "  Average training loss: 0.09\n",
      "  Training epcoh took: 0:05:15\n",
      "\n",
      "Running Validation...\n",
      "  Accuracy: 0.92\n",
      "  Validation Loss: 0.43\n",
      "  Validation took: 0:00:11\n",
      "\n",
      "======== Epoch 6 / 10 ========\n",
      "Training...\n",
      "  Batch    40  of    275.    Elapsed: 0:00:45.\n",
      "  Batch    80  of    275.    Elapsed: 0:01:31.\n",
      "  Batch   120  of    275.    Elapsed: 0:02:17.\n",
      "  Batch   160  of    275.    Elapsed: 0:03:03.\n",
      "  Batch   200  of    275.    Elapsed: 0:03:49.\n",
      "  Batch   240  of    275.    Elapsed: 0:04:35.\n",
      "\n",
      "  Average training loss: 0.04\n",
      "  Training epcoh took: 0:05:15\n",
      "\n",
      "Running Validation...\n",
      "  Accuracy: 0.88\n",
      "  Validation Loss: 0.69\n",
      "  Validation took: 0:00:11\n",
      "\n",
      "======== Epoch 7 / 10 ========\n",
      "Training...\n",
      "  Batch    40  of    275.    Elapsed: 0:00:45.\n",
      "  Batch    80  of    275.    Elapsed: 0:01:31.\n",
      "  Batch   120  of    275.    Elapsed: 0:02:17.\n",
      "  Batch   160  of    275.    Elapsed: 0:03:03.\n",
      "  Batch   200  of    275.    Elapsed: 0:03:49.\n",
      "  Batch   240  of    275.    Elapsed: 0:04:35.\n",
      "\n",
      "  Average training loss: 0.03\n",
      "  Training epcoh took: 0:05:15\n",
      "\n",
      "Running Validation...\n",
      "  Accuracy: 0.94\n",
      "  Validation Loss: 0.30\n",
      "  Validation took: 0:00:11\n",
      "\n",
      "======== Epoch 8 / 10 ========\n",
      "Training...\n",
      "  Batch    40  of    275.    Elapsed: 0:00:45.\n",
      "  Batch    80  of    275.    Elapsed: 0:01:31.\n",
      "  Batch   120  of    275.    Elapsed: 0:02:17.\n",
      "  Batch   160  of    275.    Elapsed: 0:03:03.\n",
      "  Batch   200  of    275.    Elapsed: 0:03:49.\n",
      "  Batch   240  of    275.    Elapsed: 0:04:35.\n",
      "\n",
      "  Average training loss: 0.02\n",
      "  Training epcoh took: 0:05:15\n",
      "\n",
      "Running Validation...\n",
      "  Accuracy: 0.94\n",
      "  Validation Loss: 0.34\n",
      "  Validation took: 0:00:11\n",
      "\n",
      "======== Epoch 9 / 10 ========\n",
      "Training...\n",
      "  Batch    40  of    275.    Elapsed: 0:00:45.\n",
      "  Batch    80  of    275.    Elapsed: 0:01:31.\n",
      "  Batch   120  of    275.    Elapsed: 0:02:17.\n",
      "  Batch   160  of    275.    Elapsed: 0:03:03.\n",
      "  Batch   200  of    275.    Elapsed: 0:03:49.\n",
      "  Batch   240  of    275.    Elapsed: 0:04:35.\n",
      "\n",
      "  Average training loss: 0.02\n",
      "  Training epcoh took: 0:05:15\n",
      "\n",
      "Running Validation...\n",
      "  Accuracy: 0.95\n",
      "  Validation Loss: 0.31\n",
      "  Validation took: 0:00:11\n",
      "\n",
      "======== Epoch 10 / 10 ========\n",
      "Training...\n",
      "  Batch    40  of    275.    Elapsed: 0:00:45.\n",
      "  Batch    80  of    275.    Elapsed: 0:01:31.\n",
      "  Batch   120  of    275.    Elapsed: 0:02:17.\n",
      "  Batch   160  of    275.    Elapsed: 0:03:03.\n",
      "  Batch   200  of    275.    Elapsed: 0:03:49.\n",
      "  Batch   240  of    275.    Elapsed: 0:04:35.\n",
      "\n",
      "  Average training loss: 0.01\n",
      "  Training epcoh took: 0:05:15\n",
      "\n",
      "Running Validation...\n",
      "  Accuracy: 0.95\n",
      "  Validation Loss: 0.32\n",
      "  Validation took: 0:00:11\n",
      "\n",
      "Training complete!\n",
      "Total training took 0:54:11 (h:mm:ss)\n"
     ]
    }
   ],
   "source": [
    "torch.cuda.empty_cache()\n",
    "seed_val = 42\n",
    "random.seed(seed_val)\n",
    "np.random.seed(seed_val)\n",
    "torch.manual_seed(seed_val)\n",
    "torch.cuda.manual_seed_all(seed_val)\n",
    "\n",
    "training_stats = []\n",
    "\n",
    "total_t0 = time.time()\n",
    "\n",
    "for epoch_i in range(0, epochs):\n",
    "    print(\"\")\n",
    "    print('======== Epoch {:} / {:} ========'.format(epoch_i + 1, epochs))\n",
    "    print('Training...')\n",
    "\n",
    "    t0 = time.time()\n",
    "    total_train_loss = 0\n",
    "    model.train()\n",
    "    \n",
    "    for step, batch in enumerate(train_dataloader):\n",
    "\n",
    "        if step % 40 == 0 and not step == 0:\n",
    "            elapsed = format_time(time.time() - t0)\n",
    "            \n",
    "            print('  Batch {:>5,}  of  {:>5,}.    Elapsed: {:}.'.format(step, len(train_dataloader), elapsed))\n",
    "            \n",
    "        b_input_ids = batch[0].to(device)\n",
    "        b_input_mask = batch[1].to(device)\n",
    "        b_labels = batch[2].to(device)\n",
    "\n",
    "        model.zero_grad()        \n",
    "        outputs = model(b_input_ids, \n",
    "                             # token_type_ids=None, \n",
    "                             attention_mask=b_input_mask, \n",
    "                             labels=b_labels)\n",
    "        \n",
    "        loss = outputs.loss\n",
    "        logits = outputs.logits\n",
    "        \n",
    "        total_train_loss += loss.item()\n",
    "        loss.backward()\n",
    "        torch.nn.utils.clip_grad_norm_(model.parameters(), 1.0)\n",
    "        optimizer.step()\n",
    "        scheduler.step()\n",
    "    avg_train_loss = total_train_loss / len(train_dataloader)            \n",
    "\n",
    "    training_time = format_time(time.time() - t0)\n",
    "\n",
    "    print(\"\")\n",
    "    print(\"  Average training loss: {0:.2f}\".format(avg_train_loss))\n",
    "    print(\"  Training epcoh took: {:}\".format(training_time))\n",
    "    print(\"\")\n",
    "    print(\"Running Validation...\")\n",
    "\n",
    "    t0 = time.time()\n",
    "    model.eval()\n",
    "\n",
    "    total_eval_accuracy = 0\n",
    "    total_eval_loss = 0\n",
    "    nb_eval_steps = 0\n",
    "\n",
    "    for batch in validation_dataloader:\n",
    "        b_input_ids = batch[0].to(device)\n",
    "        b_input_mask = batch[1].to(device)\n",
    "        b_labels = batch[2].to(device)\n",
    "        with torch.no_grad():        \n",
    "            outputs = model(b_input_ids, \n",
    "                                   # token_type_ids=None, \n",
    "                                   attention_mask=b_input_mask,\n",
    "                                   labels=b_labels)\n",
    "            loss = outputs.loss\n",
    "            logits = outputs.logits\n",
    "            \n",
    "        total_eval_loss += loss.item()\n",
    "        logits = logits.detach().cpu().numpy()\n",
    "        label_ids = b_labels.to('cpu').numpy()\n",
    "        total_eval_accuracy += flat_accuracy(logits, label_ids) \n",
    "        \n",
    "    avg_val_accuracy = total_eval_accuracy / len(validation_dataloader)\n",
    "    print(\"  Accuracy: {0:.2f}\".format(avg_val_accuracy))\n",
    "    avg_val_loss = total_eval_loss / len(validation_dataloader)\n",
    "    validation_time = format_time(time.time() - t0)\n",
    "    \n",
    "    print(\"  Validation Loss: {0:.2f}\".format(avg_val_loss))\n",
    "    print(\"  Validation took: {:}\".format(validation_time))\n",
    "    training_stats.append(\n",
    "        {\n",
    "            'epoch': epoch_i + 1,\n",
    "            'Training Loss': avg_train_loss,\n",
    "            'Valid. Loss': avg_val_loss,\n",
    "            'Valid. Accur.': avg_val_accuracy,\n",
    "            'Training Time': training_time,\n",
    "            'Validation Time': validation_time\n",
    "        }\n",
    "    )\n",
    "\n",
    "print(\"\")\n",
    "print(\"Training complete!\")\n",
    "\n",
    "print(\"Total training took {:} (h:mm:ss)\".format(format_time(time.time()-total_t0)))"
   ]
  },
  {
   "cell_type": "code",
   "execution_count": null,
   "id": "b749e481-3d0c-4599-97de-1a411b7266cf",
   "metadata": {},
   "outputs": [],
   "source": []
  },
  {
   "cell_type": "code",
   "execution_count": 52,
   "id": "1be71448-d1e3-40a2-9feb-c742e87eadb6",
   "metadata": {},
   "outputs": [
    {
     "data": {
      "text/html": [
       "<div>\n",
       "<style scoped>\n",
       "    .dataframe tbody tr th:only-of-type {\n",
       "        vertical-align: middle;\n",
       "    }\n",
       "\n",
       "    .dataframe tbody tr th {\n",
       "        vertical-align: top;\n",
       "    }\n",
       "\n",
       "    .dataframe thead th {\n",
       "        text-align: right;\n",
       "    }\n",
       "</style>\n",
       "<table border=\"1\" class=\"dataframe\">\n",
       "  <thead>\n",
       "    <tr style=\"text-align: right;\">\n",
       "      <th></th>\n",
       "      <th>Training Loss</th>\n",
       "      <th>Valid. Loss</th>\n",
       "      <th>Valid. Accur.</th>\n",
       "      <th>Training Time</th>\n",
       "      <th>Validation Time</th>\n",
       "    </tr>\n",
       "    <tr>\n",
       "      <th>epoch</th>\n",
       "      <th></th>\n",
       "      <th></th>\n",
       "      <th></th>\n",
       "      <th></th>\n",
       "      <th></th>\n",
       "    </tr>\n",
       "  </thead>\n",
       "  <tbody>\n",
       "    <tr>\n",
       "      <th>1</th>\n",
       "      <td>5.88e-01</td>\n",
       "      <td>0.58</td>\n",
       "      <td>0.68</td>\n",
       "      <td>0:05:10</td>\n",
       "      <td>0:00:11</td>\n",
       "    </tr>\n",
       "    <tr>\n",
       "      <th>2</th>\n",
       "      <td>4.10e-01</td>\n",
       "      <td>0.64</td>\n",
       "      <td>0.75</td>\n",
       "      <td>0:05:15</td>\n",
       "      <td>0:00:11</td>\n",
       "    </tr>\n",
       "    <tr>\n",
       "      <th>3</th>\n",
       "      <td>2.61e-01</td>\n",
       "      <td>0.33</td>\n",
       "      <td>0.88</td>\n",
       "      <td>0:05:15</td>\n",
       "      <td>0:00:11</td>\n",
       "    </tr>\n",
       "    <tr>\n",
       "      <th>4</th>\n",
       "      <td>1.48e-01</td>\n",
       "      <td>0.38</td>\n",
       "      <td>0.89</td>\n",
       "      <td>0:05:15</td>\n",
       "      <td>0:00:11</td>\n",
       "    </tr>\n",
       "    <tr>\n",
       "      <th>5</th>\n",
       "      <td>8.93e-02</td>\n",
       "      <td>0.43</td>\n",
       "      <td>0.92</td>\n",
       "      <td>0:05:15</td>\n",
       "      <td>0:00:11</td>\n",
       "    </tr>\n",
       "    <tr>\n",
       "      <th>6</th>\n",
       "      <td>4.47e-02</td>\n",
       "      <td>0.69</td>\n",
       "      <td>0.88</td>\n",
       "      <td>0:05:15</td>\n",
       "      <td>0:00:11</td>\n",
       "    </tr>\n",
       "    <tr>\n",
       "      <th>7</th>\n",
       "      <td>3.00e-02</td>\n",
       "      <td>0.30</td>\n",
       "      <td>0.94</td>\n",
       "      <td>0:05:15</td>\n",
       "      <td>0:00:11</td>\n",
       "    </tr>\n",
       "    <tr>\n",
       "      <th>8</th>\n",
       "      <td>2.44e-02</td>\n",
       "      <td>0.34</td>\n",
       "      <td>0.94</td>\n",
       "      <td>0:05:15</td>\n",
       "      <td>0:00:11</td>\n",
       "    </tr>\n",
       "    <tr>\n",
       "      <th>9</th>\n",
       "      <td>1.55e-02</td>\n",
       "      <td>0.31</td>\n",
       "      <td>0.95</td>\n",
       "      <td>0:05:15</td>\n",
       "      <td>0:00:11</td>\n",
       "    </tr>\n",
       "    <tr>\n",
       "      <th>10</th>\n",
       "      <td>8.98e-03</td>\n",
       "      <td>0.32</td>\n",
       "      <td>0.95</td>\n",
       "      <td>0:05:15</td>\n",
       "      <td>0:00:11</td>\n",
       "    </tr>\n",
       "  </tbody>\n",
       "</table>\n",
       "</div>"
      ],
      "text/plain": [
       "       Training Loss  Valid. Loss  Valid. Accur. Training Time Validation Time\n",
       "epoch                                                                         \n",
       "1           5.88e-01         0.58           0.68       0:05:10         0:00:11\n",
       "2           4.10e-01         0.64           0.75       0:05:15         0:00:11\n",
       "3           2.61e-01         0.33           0.88       0:05:15         0:00:11\n",
       "4           1.48e-01         0.38           0.89       0:05:15         0:00:11\n",
       "5           8.93e-02         0.43           0.92       0:05:15         0:00:11\n",
       "6           4.47e-02         0.69           0.88       0:05:15         0:00:11\n",
       "7           3.00e-02         0.30           0.94       0:05:15         0:00:11\n",
       "8           2.44e-02         0.34           0.94       0:05:15         0:00:11\n",
       "9           1.55e-02         0.31           0.95       0:05:15         0:00:11\n",
       "10          8.98e-03         0.32           0.95       0:05:15         0:00:11"
      ]
     },
     "execution_count": 52,
     "metadata": {},
     "output_type": "execute_result"
    }
   ],
   "source": [
    "pd.set_option('display.precision', 2)\n",
    "df_stats = pd.DataFrame(data=training_stats)\n",
    "df_stats = df_stats.set_index('epoch')\n",
    "df_stats"
   ]
  },
  {
   "cell_type": "code",
   "execution_count": 53,
   "id": "9f397288-1a3a-4f53-b1ec-c342b40d0d25",
   "metadata": {},
   "outputs": [],
   "source": [
    "texts = X_test['text_without_stopwords']"
   ]
  },
  {
   "cell_type": "code",
   "execution_count": 54,
   "id": "2dd0ccef-5e73-4ad0-a156-da280ba488c3",
   "metadata": {},
   "outputs": [],
   "source": [
    "input_ids_texts = []\n",
    "attention_masks_texts = []"
   ]
  },
  {
   "cell_type": "code",
   "execution_count": 55,
   "id": "5e1589c8-7166-4f89-95f0-bfc740634c9c",
   "metadata": {},
   "outputs": [],
   "source": [
    "input_ids_texts, attention_masks_texts = tokenization(texts, input_ids_texts, attention_masks_texts)"
   ]
  },
  {
   "cell_type": "code",
   "execution_count": 56,
   "id": "4e7bf81a-dc13-40f1-8c6a-c98c7d2c62fe",
   "metadata": {},
   "outputs": [],
   "source": [
    "Y = torch.tensor(X_test['label'].values)"
   ]
  },
  {
   "cell_type": "code",
   "execution_count": 57,
   "id": "796b6829-4640-4a80-a87c-3a402febc4db",
   "metadata": {},
   "outputs": [],
   "source": [
    "prediction_data = TensorDataset(\n",
    "         input_ids_texts,\n",
    "         attention_masks_texts,\n",
    "         Y\n",
    "        )\n",
    "prediction_sampler = SequentialSampler(prediction_data)\n",
    "prediction_dataloader = DataLoader(prediction_data, sampler = prediction_sampler, batch_size = batch_size)"
   ]
  },
  {
   "cell_type": "code",
   "execution_count": 58,
   "id": "51e4dcd0-3de6-4fee-a963-2c36715a7e4e",
   "metadata": {},
   "outputs": [
    {
     "data": {
      "text/plain": [
       "DistilBertForSequenceClassification(\n",
       "  (distilbert): DistilBertModel(\n",
       "    (embeddings): Embeddings(\n",
       "      (word_embeddings): Embedding(30522, 768, padding_idx=0)\n",
       "      (position_embeddings): Embedding(512, 768)\n",
       "      (LayerNorm): LayerNorm((768,), eps=1e-12, elementwise_affine=True)\n",
       "      (dropout): Dropout(p=0.1, inplace=False)\n",
       "    )\n",
       "    (transformer): Transformer(\n",
       "      (layer): ModuleList(\n",
       "        (0-5): 6 x TransformerBlock(\n",
       "          (attention): DistilBertSdpaAttention(\n",
       "            (dropout): Dropout(p=0.1, inplace=False)\n",
       "            (q_lin): Linear(in_features=768, out_features=768, bias=True)\n",
       "            (k_lin): Linear(in_features=768, out_features=768, bias=True)\n",
       "            (v_lin): Linear(in_features=768, out_features=768, bias=True)\n",
       "            (out_lin): Linear(in_features=768, out_features=768, bias=True)\n",
       "          )\n",
       "          (sa_layer_norm): LayerNorm((768,), eps=1e-12, elementwise_affine=True)\n",
       "          (ffn): FFN(\n",
       "            (dropout): Dropout(p=0.1, inplace=False)\n",
       "            (lin1): Linear(in_features=768, out_features=3072, bias=True)\n",
       "            (lin2): Linear(in_features=3072, out_features=768, bias=True)\n",
       "            (activation): GELUActivation()\n",
       "          )\n",
       "          (output_layer_norm): LayerNorm((768,), eps=1e-12, elementwise_affine=True)\n",
       "        )\n",
       "      )\n",
       "    )\n",
       "  )\n",
       "  (pre_classifier): Linear(in_features=768, out_features=768, bias=True)\n",
       "  (classifier): Linear(in_features=768, out_features=2, bias=True)\n",
       "  (dropout): Dropout(p=0.2, inplace=False)\n",
       ")"
      ]
     },
     "execution_count": 58,
     "metadata": {},
     "output_type": "execute_result"
    }
   ],
   "source": [
    "model.eval()"
   ]
  },
  {
   "cell_type": "code",
   "execution_count": 59,
   "id": "bed6725d-4098-4d99-831e-4c2923a010a5",
   "metadata": {},
   "outputs": [],
   "source": [
    "predictions, true_labels = [], []\n",
    "for batch in prediction_dataloader:\n",
    "    batch = tuple(t.to(device) for t in batch)\n",
    "    b_input_ids, b_input_mask, b_labels = batch\n",
    "    with torch.no_grad():\n",
    "        outputs = model(b_input_ids, \n",
    "                        #token_type_ids = None, \n",
    "                        attention_mask = b_input_mask)\n",
    "    logits = outputs[0]\n",
    "    logits = logits.detach().cpu().numpy()\n",
    "    label_ids = b_labels.to('cpu').numpy()\n",
    "    predictions.append(logits)\n",
    "    true_labels.append(label_ids)"
   ]
  },
  {
   "cell_type": "code",
   "execution_count": 60,
   "id": "5ee936a6-e0bb-42f6-a382-029ffb036fe3",
   "metadata": {},
   "outputs": [
    {
     "name": "stdout",
     "output_type": "stream",
     "text": [
      "Positive samples: 781 of 1221 (63.96%)\n"
     ]
    }
   ],
   "source": [
    "print('Positive samples: %d of %d (%.2f%%)' % (X_test.label.sum(), len(X_test.label), (X_test.label.sum() / len(X_test.label) * 100.0)))"
   ]
  },
  {
   "cell_type": "code",
   "execution_count": 61,
   "id": "3f4284e5-4cc3-4e1d-9906-8ee3485229a5",
   "metadata": {},
   "outputs": [
    {
     "name": "stdout",
     "output_type": "stream",
     "text": [
      "Calculating Matthews Corr. Cef. for eact batch...\n"
     ]
    }
   ],
   "source": [
    "from sklearn.metrics import matthews_corrcoef\n",
    "matthews_set = []\n",
    "\n",
    "print('Calculating Matthews Corr. Cef. for eact batch...')\n",
    "\n",
    "for i in range(len(true_labels)):\n",
    "    pred_labels_i = np.argmax(predictions[i], axis =1).flatten()\n",
    "    matthews = matthews_corrcoef(true_labels[i], pred_labels_i)\n",
    "    matthews_set.append(matthews)"
   ]
  },
  {
   "cell_type": "code",
   "execution_count": 62,
   "id": "51f2b114-b8eb-40b9-9680-627db5aa0a04",
   "metadata": {},
   "outputs": [
    {
     "data": {
      "image/png": "[encoded data removed]",
      "text/plain": [
       "<Figure size 640x480 with 1 Axes>"
      ]
     },
     "metadata": {},
     "output_type": "display_data"
    }
   ],
   "source": [
    "ax = sns.barplot(x=list(range(len(matthews_set))), y=matthews_set, errorbar=None)\n",
    "plt.title('MCC Score per Batch')\n",
    "plt.ylabel('MCC Score (-1 to +1)')\n",
    "plt.xlabel('Batch #')\n",
    "plt.show()"
   ]
  },
  {
   "cell_type": "code",
   "execution_count": 63,
   "id": "0942f029-a3ac-4169-b421-673a505db68e",
   "metadata": {},
   "outputs": [
    {
     "name": "stdout",
     "output_type": "stream",
     "text": [
      "Total MCC:0.871\n"
     ]
    }
   ],
   "source": [
    "flat_predictions = np.concatenate(predictions, axis = 0)\n",
    "flat_predictions = np.argmax(flat_predictions, axis = 1).flatten()\n",
    "flat_true_labels = np.concatenate(true_labels, axis = 0)\n",
    "mcc = matthews_corrcoef(flat_true_labels, flat_predictions)\n",
    "print('Total MCC:%.3f' %mcc)"
   ]
  },
  {
   "cell_type": "code",
   "execution_count": 64,
   "id": "6a1dfeb6-23fb-4b28-a031-09d02084373f",
   "metadata": {},
   "outputs": [],
   "source": [
    "# txt = input('Enter the news description..')"
   ]
  },
  {
   "cell_type": "code",
   "execution_count": 65,
   "id": "2935e54b-ee87-4e75-af0f-d908375b3d62",
   "metadata": {},
   "outputs": [],
   "source": [
    "# pattern = re.compile(r\"[!@#$(),\\n\\\"%^*?:;~\\[\\]]\")  \n",
    "\n",
    "# def text_preprocessing(text):\n",
    "#     data_list = []\n",
    "    \n",
    "#     words = text.split()\n",
    "#     for word in words:\n",
    "#         new_word = pattern.sub(\"\", word).lower().strip()\n",
    "#         if \"'\" in new_word:\n",
    "#             new_word = new_word.replace(\"'\", \"\")\n",
    "#         if new_word and new_word not in stopwords and len(new_word) > 2 :  \n",
    "#             data_list.append(new_word)\n",
    "\n",
    "#     return \" \".join(data_list)"
   ]
  },
  {
   "cell_type": "code",
   "execution_count": 78,
   "id": "caa94733-e726-4095-8606-f854f31cbcfc",
   "metadata": {},
   "outputs": [],
   "source": [
    "with open('utils/models/fakenews_detection.pkl', 'wb') as fake_news:\n",
    "    pickle.dump(model, fake_news)"
   ]
  },
  {
   "cell_type": "code",
   "execution_count": null,
   "id": "58fdfdba-cb23-4773-bd02-d7272ffb7a53",
   "metadata": {},
   "outputs": [],
   "source": []
  },
  {
   "cell_type": "code",
   "execution_count": null,
   "id": "bf6aa212-dc6a-4f02-8b5b-129e28d6af28",
   "metadata": {},
   "outputs": [],
   "source": []
  },
  {
   "cell_type": "code",
   "execution_count": null,
   "id": "fb0259fd-6c93-48fe-a80f-35f1b207b425",
   "metadata": {},
   "outputs": [],
   "source": []
  },
  {
   "cell_type": "code",
   "execution_count": 66,
   "id": "32228c93-d798-42e0-acab-77f5156613bc",
   "metadata": {},
   "outputs": [
    {
     "ename": "SyntaxError",
     "evalue": "parameter without a default follows parameter with a default (2770928008.py, line 1)",
     "output_type": "error",
     "traceback": [
      "\u001b[1;36m  Cell \u001b[1;32mIn[66], line 1\u001b[1;36m\u001b[0m\n\u001b[1;33m    def predict_news(model, input_ids = [], attention_mask = [], text):\u001b[0m\n\u001b[1;37m                                                                 ^\u001b[0m\n\u001b[1;31mSyntaxError\u001b[0m\u001b[1;31m:\u001b[0m parameter without a default follows parameter with a default\n"
     ]
    }
   ],
   "source": [
    "# def predict_news(model, input_ids = [], attention_mask = [], text):\n",
    "#     X = text_preprocessing(text)\n",
    "#     input_ids, attention_mask = tokenization(X, input_ids, attention_mask)\n",
    "#     input_ids = input_ids['input_ids'].to(device)\n",
    "#     attention_mask = attention_mask['attention_mask'].to(device)\n",
    "    \n",
    "#     model.eval()\n",
    "#     with torch.no_grad():\n",
    "#         outputs = model(input_ids, attention_mask=attention_mask)\n",
    "    \n",
    "#     logits = outputs.logits\n",
    "#     probabilities = torch.nn.functional.softmax(logits, dim = 1)\n",
    "    \n",
    "#     predicted_class = torch.argmax(probabilities, dim=1).item()\n",
    "#     return predicted_class, probabilites.cpu().numpy()"
   ]
  },
  {
   "cell_type": "code",
   "execution_count": null,
   "id": "91af704b-b102-4f80-a95e-52b43205baea",
   "metadata": {},
   "outputs": [],
   "source": [
    "# predicted_label, probs = predicted_news(model, input_ids, attention_mask)\n",
    "\n",
    "# print(f\"Predicted Label: {'Fake' if predicted_label == 1 else 'Real'}\")\n",
    "# print(f\"Probabilities: {probs}\")"
   ]
  }
 ],
 "metadata": {
  "kernelspec": {
   "display_name": "Python (fyp)",
   "language": "python",
   "name": "fyp"
  },
  "language_info": {
   "codemirror_mode": {
    "name": "ipython",
    "version": 3
   },
   "file_extension": ".py",
   "mimetype": "text/x-python",
   "name": "python",
   "nbconvert_exporter": "python",
   "pygments_lexer": "ipython3",
   "version": "3.12.3"
  }
 },
 "nbformat": 4,
 "nbformat_minor": 5
}
